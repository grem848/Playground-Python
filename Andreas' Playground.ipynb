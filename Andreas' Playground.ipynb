{
 "cells": [
  {
   "cell_type": "markdown",
   "metadata": {},
   "source": [
    "# 06-Lists Exercises"
   ]
  },
  {
   "cell_type": "markdown",
   "metadata": {},
   "source": [
    "  1. Create a list with the integer values from one to one million. Use `min()` and `max()` to make sure your list actually starts at one and ends at one million. Also, use the `sum()` function to compute the sum of all values and `%timeit`'s execution time.\n",
    "  "
   ]
  },
  {
   "cell_type": "code",
   "execution_count": 1,
   "metadata": {},
   "outputs": [
    {
     "name": "stdout",
     "output_type": "stream",
     "text": [
      "1\n",
      "1000000\n",
      "500000500000\n",
      "500000500000\n",
      "500000500000\n",
      "500000500000\n",
      "500000500000\n",
      "500000500000\n",
      "500000500000\n",
      "500000500000\n",
      "500000500000\n",
      "500000500000\n",
      "500000500000\n",
      "0.34853808499999994\n"
     ]
    }
   ],
   "source": [
    "import timeit\n",
    "\n",
    "list = range(1, 1000000 + 1)\n",
    "print(min(list))\n",
    "print(max(list))\n",
    "print(sum(list))\n",
    "\n",
    "\n",
    "cmd = 'list = range(1, 1000000 + 1); print(sum(list))'\n",
    "print(timeit.timeit(cmd, number=10))"
   ]
  },
  {
   "cell_type": "markdown",
   "metadata": {},
   "source": [
    "  2. Write a single line program that computes the sum of a range of integer values without using the `sum()` function and without using a loop."
   ]
  },
  {
   "cell_type": "code",
   "execution_count": null,
   "metadata": {},
   "outputs": [],
   "source": []
  },
  {
   "cell_type": "markdown",
   "metadata": {},
   "source": [
    "  3. Use the `range()` function to make a list of the odd numbers from 1 to 20. **Hint** in ipython and this notebooks you can see a functions help text by executing for example `range?`"
   ]
  },
  {
   "cell_type": "code",
   "execution_count": null,
   "metadata": {},
   "outputs": [],
   "source": []
  },
  {
   "cell_type": "markdown",
   "metadata": {},
   "source": [
    "  4. Create a list of the multiples of 3 from 3 to 30. **HINT: USE A LIST COMPREHENSION**"
   ]
  },
  {
   "cell_type": "code",
   "execution_count": null,
   "metadata": {},
   "outputs": [],
   "source": []
  },
  {
   "cell_type": "markdown",
   "metadata": {},
   "source": [
    "  5. A number raised to the third power is called a cube. For example, the cube of 2 is written as `2**3` in Python. Create a list of the first 10 cubes (that is, the cube of each integer from 1 through 10)."
   ]
  },
  {
   "cell_type": "code",
   "execution_count": null,
   "metadata": {},
   "outputs": [],
   "source": []
  },
  {
   "cell_type": "markdown",
   "metadata": {},
   "source": [
    "\n",
    "# 07-Functions and Modules Exercises"
   ]
  },
  {
   "cell_type": "markdown",
   "metadata": {},
   "source": [
    "  1. Write a function that iterates through a list and prints each value **without using a loop**. That is, write a recursive function to print the values of a list."
   ]
  },
  {
   "cell_type": "code",
   "execution_count": 2,
   "metadata": {},
   "outputs": [
    {
     "name": "stdout",
     "output_type": "stream",
     "text": [
      "3\n",
      "2\n",
      "1\n"
     ]
    }
   ],
   "source": [
    "my_list = [1,2,3]\n",
    "\n",
    "def print_each(my_list):\n",
    "    print((my_list[-1]))\n",
    "    my_list.remove(my_list[-1])\n",
    "    if(len(my_list) > 0):\n",
    "        print_each(my_list)\n",
    "        \n",
    "print_each(my_list)"
   ]
  },
  {
   "cell_type": "code",
   "execution_count": 3,
   "metadata": {},
   "outputs": [
    {
     "name": "stdout",
     "output_type": "stream",
     "text": [
      "0\n",
      "1\n",
      "2\n"
     ]
    }
   ],
   "source": [
    "def print_list(l, index =0):\n",
    "    if index != len(l):\n",
    "        print(l[index])\n",
    "        print_list(l, index + 1)\n",
    "        \n",
    "print_list([x for x in range(3)])"
   ]
  },
  {
   "cell_type": "code",
   "execution_count": 4,
   "metadata": {},
   "outputs": [
    {
     "name": "stdout",
     "output_type": "stream",
     "text": [
      "7\n",
      "5\n",
      "3\n",
      "1\n"
     ]
    }
   ],
   "source": [
    "print_each([1,3,5,7])"
   ]
  },
  {
   "cell_type": "markdown",
   "metadata": {},
   "source": [
    "  2. Write a module `webget.py` that exposes a function to download a file from the web in case it does not exist locally already. The function shall have the following signature `download(url, to=None)` where the keyword argument `to` specifies where to save a file locally and with which name. If `to == None` then the file shall be saved in the current working directory `./` with the same name as it has at its origin. For example, calling your program as in the following\n",
    "\n",
    "  ```python\n",
    "  import webget\n",
    "\n",
    "  url = 'http://data.kk.dk/dataset/76ecf368-bf2d-46a2-bcf8-adaf37662528/resource/9286af17-f74e-46c9-a428-9fb707542189/download/befkbhalderstatkode.csv'\n",
    "  webget.download(url)\n",
    "  ```\n",
    "\n",
    "  will download the remote file to `./befkbhalderstatkode.csv`.\n",
    "\n",
    "  Likely, you will need functions from the standard library modules `os`, and `urllib`. For example, read the doc strings for the following functions and implement the given function stub with help of them.\n",
    "\n",
    "    * `os.path.isfile?`\n",
    "    * `os.path.join?`\n",
    "    * `os.path.basename?`\n",
    "    * `urllib.parse?` \n",
    "    * `urllib.request.urlretrieve?`"
   ]
  },
  {
   "cell_type": "code",
   "execution_count": 15,
   "metadata": {},
   "outputs": [],
   "source": [
    "# import webget\n",
    "\n",
    "# moby_dick_url = 'http://i3.ytimg.com/vi/J---aiyznGQ/mqdefault.jpg'\n",
    "# webget.download(moby_dick_url)"
   ]
  },
  {
   "cell_type": "code",
   "execution_count": 6,
   "metadata": {
    "scrolled": true
   },
   "outputs": [
    {
     "name": "stdout",
     "output_type": "stream",
     "text": [
      "Beginning file download with urllib2...\n"
     ]
    }
   ],
   "source": [
    "import os\n",
    "import urllib.request as req\n",
    "from urllib.parse import urlparse\n",
    "\n",
    "moby_dick_url = 'http://i3.ytimg.com/vi/J---aiyznGQ/mqdefault.jpg'\n",
    "\n",
    "def download(url, to=None):\n",
    "    print('Beginning file download with urllib2...')\n",
    "    req.urlretrieve(url, to)\n",
    "download(moby_dick_url, \"cat.jpg\")"
   ]
  },
  {
   "cell_type": "markdown",
   "metadata": {},
   "source": [
    "# 08-Dictionaries\n"
   ]
  },
  {
   "cell_type": "markdown",
   "metadata": {},
   "source": [
    "Using the `str` in `fst_paragraph`, your job is to return a `dict` containing all the words as keys, and the *number of occurrences* for each word as value. \n",
    "For instance, the word `'Ishmael'` occurs once, so a key with `'Ishmael'` is expected to contain the value `1`: `{'Ishmael': 1}`"
   ]
  },
  {
   "cell_type": "code",
   "execution_count": 27,
   "metadata": {},
   "outputs": [
    {
     "data": {
      "text/plain": [
       "{'call': 1,\n",
       " 'me': 5,\n",
       " 'ishmael': 1,\n",
       " 'some': 2,\n",
       " 'years': 1,\n",
       " 'ago—never': 1,\n",
       " 'mind': 1,\n",
       " 'how': 1,\n",
       " 'long': 1,\n",
       " 'precisely—having': 1,\n",
       " 'little': 2,\n",
       " 'or': 2,\n",
       " 'no': 1,\n",
       " 'money': 1,\n",
       " 'in': 4,\n",
       " 'my': 4,\n",
       " 'purse': 1,\n",
       " 'and': 7,\n",
       " 'nothing': 2,\n",
       " 'particular': 1,\n",
       " 'to': 5,\n",
       " 'interest': 1,\n",
       " 'on': 1,\n",
       " 'shore': 1,\n",
       " 'i': 9,\n",
       " 'thought': 1,\n",
       " 'would': 1,\n",
       " 'sail': 1,\n",
       " 'about': 2,\n",
       " 'a': 5,\n",
       " 'see': 1,\n",
       " 'the': 10,\n",
       " 'watery': 1,\n",
       " 'part': 1,\n",
       " 'of': 4,\n",
       " 'world': 1,\n",
       " 'it': 5,\n",
       " 'is': 4,\n",
       " 'way': 1,\n",
       " 'have': 1,\n",
       " 'driving': 1,\n",
       " 'off': 1,\n",
       " 'spleen': 1,\n",
       " 'regulating': 1,\n",
       " 'circulation': 1,\n",
       " 'whenever': 4,\n",
       " 'find': 2,\n",
       " 'myself': 2,\n",
       " 'growing': 1,\n",
       " 'grim': 1,\n",
       " 'mouth': 1,\n",
       " 'damp': 1,\n",
       " 'drizzly': 1,\n",
       " 'november': 1,\n",
       " 'soul': 1,\n",
       " 'involuntarily': 1,\n",
       " 'pausing': 1,\n",
       " 'before': 1,\n",
       " 'coffin': 1,\n",
       " 'warehouses': 1,\n",
       " 'bringing': 1,\n",
       " 'up': 1,\n",
       " 'rear': 1,\n",
       " 'every': 1,\n",
       " 'funeral': 1,\n",
       " 'meet': 1,\n",
       " 'especially': 1,\n",
       " 'hypos': 1,\n",
       " 'get': 2,\n",
       " 'such': 1,\n",
       " 'an': 1,\n",
       " 'upper': 1,\n",
       " 'hand': 1,\n",
       " 'that': 1,\n",
       " 'requires': 1,\n",
       " 'strong': 1,\n",
       " 'moral': 1,\n",
       " 'principle': 1,\n",
       " 'prevent': 1,\n",
       " 'from': 1,\n",
       " 'deliberately': 1,\n",
       " 'stepping': 1,\n",
       " 'into': 1,\n",
       " 'street': 1,\n",
       " 'methodically': 1,\n",
       " 'knocking': 1,\n",
       " 'people’s': 1,\n",
       " 'hats': 1,\n",
       " 'off—then': 1,\n",
       " 'account': 1,\n",
       " 'high': 1,\n",
       " 'time': 2,\n",
       " 'sea': 1,\n",
       " 'as': 2,\n",
       " 'soon': 1,\n",
       " 'can': 1,\n",
       " 'this': 2,\n",
       " 'substitute': 1,\n",
       " 'for': 1,\n",
       " 'pistol': 1,\n",
       " 'ball': 1,\n",
       " 'with': 2,\n",
       " 'philosophical': 1,\n",
       " 'flourish': 1,\n",
       " 'cato': 1,\n",
       " 'throws': 1,\n",
       " 'himself': 1,\n",
       " 'upon': 1,\n",
       " 'his': 1,\n",
       " 'sword': 1,\n",
       " 'quietly': 1,\n",
       " 'take': 1,\n",
       " 'ship': 1,\n",
       " 'there': 1,\n",
       " 'surprising': 1,\n",
       " 'if': 1,\n",
       " 'they': 1,\n",
       " 'but': 1,\n",
       " 'knew': 1,\n",
       " 'almost': 1,\n",
       " 'all': 1,\n",
       " 'men': 1,\n",
       " 'their': 1,\n",
       " 'degree': 1,\n",
       " 'other': 1,\n",
       " 'cherish': 1,\n",
       " 'very': 1,\n",
       " 'nearly': 1,\n",
       " 'same': 1,\n",
       " 'feelings': 1,\n",
       " 'towards': 1,\n",
       " 'ocean': 1}"
      ]
     },
     "execution_count": 27,
     "metadata": {},
     "output_type": "execute_result"
    }
   ],
   "source": [
    "fst_paragraph = '''\n",
    "Call me Ishmael. Some years ago—never mind how long precisely—having\n",
    "little or no money in my purse, and nothing particular to interest me on\n",
    "shore, I thought I would sail about a little and see the watery part of\n",
    "the world. It is a way I have of driving off the spleen and regulating\n",
    "the circulation. Whenever I find myself growing grim about the mouth;\n",
    "whenever it is a damp, drizzly November in my soul; whenever I find\n",
    "myself involuntarily pausing before coffin warehouses, and bringing up\n",
    "the rear of every funeral I meet; and especially whenever my hypos get\n",
    "such an upper hand of me, that it requires a strong moral principle to\n",
    "prevent me from deliberately stepping into the street, and methodically\n",
    "knocking people’s hats off—then, I account it high time to get to\n",
    "sea as soon as I can. This is my substitute for pistol and ball. With\n",
    "a philosophical flourish Cato throws himself upon his sword; I quietly\n",
    "take to the ship. There is nothing surprising in this. If they but knew\n",
    "it, almost all men in their degree, some time or other, cherish very\n",
    "nearly the same feelings towards the ocean with me.'''\n",
    "\n",
    "cleaned = fst_paragraph.replace(',', '').replace('.', '').replace('\\n', ' ').replace(';', '')\n",
    "words = cleaned.lower().split()\n",
    "#words = cleaned.upper().split()\n",
    "count = {}\n",
    "for word in words:\n",
    "    count.setdefault(word, 0)\n",
    "    count[word] += 1\n",
    "count"
   ]
  },
  {
   "cell_type": "markdown",
   "metadata": {},
   "source": [
    "# 9-CLI Programs"
   ]
  },
  {
   "cell_type": "markdown",
   "metadata": {},
   "source": [
    "git-bash: python download_script.py 1 2"
   ]
  },
  {
   "cell_type": "code",
   "execution_count": 9,
   "metadata": {},
   "outputs": [
    {
     "name": "stdout",
     "output_type": "stream",
     "text": [
      "['-f', 'C:\\\\Users\\\\Andreas Heick Laptop\\\\AppData\\\\Roaming\\\\jupyter\\\\runtime\\\\kernel-1502d1e6-7eaa-42a7-8727-2c98d74994e1.json']\n"
     ]
    }
   ],
   "source": [
    "import sys\n",
    "\n",
    "print(sys.argv[1:])"
   ]
  },
  {
   "cell_type": "markdown",
   "metadata": {},
   "source": [
    "# 10-Working with Files"
   ]
  },
  {
   "cell_type": "code",
   "execution_count": 10,
   "metadata": {
    "scrolled": true
   },
   "outputs": [
    {
     "name": "stdout",
     "output_type": "stream",
     "text": [
      "import webget\n",
      "import sys\n",
      "\n",
      "urls = sys.argv[1:]\n",
      "webget.download(urls)\n",
      "\n"
     ]
    }
   ],
   "source": [
    "with open('download_script.py') as fp:\n",
    "    print(fp.read())"
   ]
  },
  {
   "cell_type": "code",
   "execution_count": 11,
   "metadata": {
    "scrolled": false
   },
   "outputs": [
    {
     "name": "stdout",
     "output_type": "stream",
     "text": [
      "Fisher's Iris Data\n",
      "<Worksheet \"Fisher's Iris Data\">\n"
     ]
    },
    {
     "name": "stderr",
     "output_type": "stream",
     "text": [
      "C:\\Users\\Andreas Heick Laptop\\Anaconda3\\lib\\site-packages\\ipykernel_launcher.py:7: DeprecationWarning: Call to deprecated function get_sheet_by_name (Use wb[sheetname]).\n",
      "  import sys\n",
      "C:\\Users\\Andreas Heick Laptop\\Anaconda3\\lib\\site-packages\\ipykernel_launcher.py:9: DeprecationWarning: Call to deprecated function get_active_sheet (Use the .active property).\n",
      "  if __name__ == '__main__':\n"
     ]
    }
   ],
   "source": [
    "import openpyxl\n",
    "\n",
    "# created from: https://en.wikipedia.org/wiki/Iris_flower_data_set#Data_set\n",
    "filename = 'iris_data.xlsx'\n",
    "wb = openpyxl.load_workbook(filename)\n",
    "\n",
    "sheet = wb.get_sheet_by_name(\"Fisher's Iris Data\")\n",
    "print(sheet.title)\n",
    "print(wb.get_active_sheet())"
   ]
  },
  {
   "cell_type": "markdown",
   "metadata": {},
   "source": [
    "# 15-Intro to Numpy"
   ]
  },
  {
   "cell_type": "markdown",
   "metadata": {},
   "source": [
    "### Class exercise: table\n",
    "- on the above image find the 3 different slicings using only the array slicing notation"
   ]
  },
  {
   "cell_type": "code",
   "execution_count": 12,
   "metadata": {},
   "outputs": [
    {
     "name": "stdout",
     "output_type": "stream",
     "text": [
      "10\n",
      "----------\n",
      "[11 12 13]\n",
      "----------\n",
      "[12 17 22]\n",
      "----------\n",
      "[[11 13]\n",
      " [16 18]\n",
      " [21 23]\n",
      " [26 28]]\n",
      "----------\n",
      "[14 24]\n"
     ]
    }
   ],
   "source": [
    "# the following line is jupyter notebook specific \n",
    "%matplotlib inline\n",
    "import numpy as np\n",
    "aaa = np.arange(10, 30).reshape(4, 5)\n",
    "print(aaa[0,0])\n",
    "print(\"----------\")\n",
    "print(aaa[0,1:4])\n",
    "print(\"----------\")\n",
    "print(aaa[0:3,2])\n",
    "print(\"----------\")\n",
    "print(aaa[0:4,1::2])\n",
    "print(\"----------\")\n",
    "print(aaa[::2,4])"
   ]
  },
  {
   "cell_type": "markdown",
   "metadata": {},
   "source": [
    "### Class exercise: cube\n",
    "1. Slice out [12 13 14] from the above cube using only one slice. e.g: a[:,:,:]\n",
    "2. Slice out [3 12 21].\n",
    "3. Slice out all y-values where x is 2 and z is 0."
   ]
  },
  {
   "cell_type": "code",
   "execution_count": 1,
   "metadata": {},
   "outputs": [
    {
     "name": "stdout",
     "output_type": "stream",
     "text": [
      "[12 13 14]\n",
      "----------\n",
      "[ 3 12 21]\n",
      "----------\n",
      "[2 5 8]\n"
     ]
    }
   ],
   "source": [
    "%matplotlib inline\n",
    "import numpy as np\n",
    "a = np.arange(0, 27).reshape((3, 3, 3)) # = (z, y, x)\n",
    "\n",
    "print(a[1,1,0:3])\n",
    "print(\"----------\")\n",
    "print(a[0:3,1,0])\n",
    "print(\"----------\")\n",
    "print(a[0,:,2])"
   ]
  },
  {
   "cell_type": "markdown",
   "metadata": {},
   "source": [
    "### Class exercise: masking\n",
    "- For the dataset: `data = np.arange(1,101).reshape(10,10)`\n",
    "  - apply a mask that will return only the even numbers\n",
    "  - using `np.where()` return only numbers that ends with 6\n",
    "  - using the operators: `%` or `|` mask away both numbers that is divisible by 3 and numbers begging with 8\n"
   ]
  },
  {
   "cell_type": "code",
   "execution_count": 5,
   "metadata": {},
   "outputs": [
    {
     "name": "stdout",
     "output_type": "stream",
     "text": [
      "[  2   4   6   8  10  12  14  16  18  20  22  24  26  28  30  32  34  36\n",
      "  38  40  42  44  46  48  50  52  54  56  58  60  62  64  66  68  70  72\n",
      "  74  76  78  80  82  84  86  88  90  92  94  96  98 100]\n",
      "---------\n",
      "[ 6 16 26 36 46 56 66 76 86 96]\n",
      "---------\n",
      "[ 11  13  14  16  17  19  20  22  23  25  26  28  29  31  32  34  35  37\n",
      "  38  40  41  43  44  46  47  49  50  52  53  55  56  58  59  61  62  64\n",
      "  65  67  68  70  71  73  74  76  77  79  91  92  94  95  97  98 100]\n",
      "---------\n"
     ]
    }
   ],
   "source": [
    "%matplotlib inline\n",
    "import numpy as np\n",
    "# solution:\n",
    "data = np.arange(1,101).reshape(10,10)\n",
    "e = data[data%2 == 0]\n",
    "print(e)\n",
    "print(\"---------\")\n",
    "print(data[np.where(data%10 == 6)])\n",
    "print(\"---------\")\n",
    "print(data[np.where((data%3 != 0) & (data%80 > 10))])\n",
    "print(\"---------\")\n",
    "# nump.masking_ex()"
   ]
  },
  {
   "cell_type": "markdown",
   "metadata": {},
   "source": [
    "# 16-Pandas"
   ]
  },
  {
   "cell_type": "markdown",
   "metadata": {},
   "source": [
    "# Class exercise with dates\n",
    "Create a function: get_meeting_dates in a module called myUtilities.py\n",
    "- the function must take 3 arguments (start_date=now, period_as_timedelta, time_of_day, number_of_meetings)\n",
    "- the function should then return a list of datetimes for a series of meetings that should take place from start_date and evenly distributed throughout the period.\n",
    "- create another list of number of attendents, that was actually there at each meeting.\n",
    "- create a bar plot of attendance through the series of meetings."
   ]
  },
  {
   "cell_type": "code",
   "execution_count": null,
   "metadata": {},
   "outputs": [],
   "source": [
    "%pylab inline"
   ]
  },
  {
   "cell_type": "code",
   "execution_count": 51,
   "metadata": {},
   "outputs": [
    {
     "data": {
      "text/plain": [
       "[datetime.datetime(2019, 3, 5, 17, 0),\n",
       " datetime.datetime(2019, 3, 9, 17, 0),\n",
       " datetime.datetime(2019, 3, 14, 17, 0),\n",
       " datetime.datetime(2019, 3, 19, 17, 0),\n",
       " datetime.datetime(2019, 3, 24, 17, 0),\n",
       " datetime.datetime(2019, 3, 29, 17, 0),\n",
       " datetime.datetime(2019, 4, 3, 17, 0)]"
      ]
     },
     "execution_count": 51,
     "metadata": {},
     "output_type": "execute_result"
    }
   ],
   "source": [
    "from datetime import datetime, date, time, timedelta\n",
    "import numpy as np\n",
    "\n",
    "\n",
    "def get_meeting_dates (period_as_timedelta, time_of_day, number_of_meetings, start_date=datetime.today()):\n",
    "# Error Handling\n",
    "    if number_of_meetings > period_as_timedelta.days:\n",
    "        raise ValueError('Too many meetings!')\n",
    "        \n",
    "# day_deltas (linspace) spreads the meetings from 0 to period days -1\n",
    "    day_deltas = np.linspace(0, period_as_timedelta.days - 1, number_of_meetings, dtype=int)\n",
    "# define base time of day for a meeting\n",
    "    base_time_of_day = datetime.combine(start_date, time_of_day)\n",
    "# voodoo magic :D\n",
    "    list_of_meetings = [base_time_of_day + timedelta(int(day_delta)) for day_delta in day_deltas]\n",
    "    \n",
    "    return list_of_meetings\n",
    "\n",
    "get_meeting_dates(timedelta(30), time(17,0), 7)\n",
    "\n",
    "\n",
    "    \n",
    "    "
   ]
  },
  {
   "cell_type": "code",
   "execution_count": 78,
   "metadata": {},
   "outputs": [
    {
     "data": {
      "text/html": [
       "<div>\n",
       "<style scoped>\n",
       "    .dataframe tbody tr th:only-of-type {\n",
       "        vertical-align: middle;\n",
       "    }\n",
       "\n",
       "    .dataframe tbody tr th {\n",
       "        vertical-align: top;\n",
       "    }\n",
       "\n",
       "    .dataframe thead th {\n",
       "        text-align: right;\n",
       "    }\n",
       "</style>\n",
       "<table border=\"1\" class=\"dataframe\">\n",
       "  <thead>\n",
       "    <tr style=\"text-align: right;\">\n",
       "      <th></th>\n",
       "      <th>AAR</th>\n",
       "      <th>BYDEL</th>\n",
       "      <th>ALDER</th>\n",
       "      <th>STATKODE</th>\n",
       "      <th>PERSONER</th>\n",
       "    </tr>\n",
       "  </thead>\n",
       "  <tbody>\n",
       "    <tr>\n",
       "      <th>0</th>\n",
       "      <td>2015</td>\n",
       "      <td>1</td>\n",
       "      <td>0</td>\n",
       "      <td>5100</td>\n",
       "      <td>614</td>\n",
       "    </tr>\n",
       "  </tbody>\n",
       "</table>\n",
       "</div>"
      ],
      "text/plain": [
       "    AAR  BYDEL  ALDER  STATKODE  PERSONER\n",
       "0  2015      1      0      5100       614"
      ]
     },
     "execution_count": 78,
     "metadata": {},
     "output_type": "execute_result"
    }
   ],
   "source": [
    "import pandas as pd\n",
    "df = pd.read_csv('befkbhalderstatkode.csv')\n",
    "# print(df)\n",
    "# print(type(df))\n",
    "# print(df.columns)\n",
    "# print(df.shape)\n",
    "# print(type(df['ALDER']))\n",
    "# print(type(df.iloc[:,0]))\n",
    "# print(df['ALDER'][1])\n",
    "# print(df.iloc[1][2])\n",
    "df.iloc[:1][:2]"
   ]
  },
  {
   "cell_type": "code",
   "execution_count": 81,
   "metadata": {},
   "outputs": [
    {
     "name": "stdout",
     "output_type": "stream",
     "text": [
      "{'Date': 'Tue, 05 Mar 2019 13:41:42 GMT', 'Content-Type': 'application/zip', 'Content-Length': '75906', 'Connection': 'keep-alive', 'Content-Disposition': 'attachment; filename=API_EN.ATM.CO2E.KT_DS2_en_csv_v2_10473877.zip', 'X-Powered-By': 'ASP.NET', 'Set-Cookie': 'TS01fa65e4=01359ee9764da72eaffe9f321c78f54be6c97d71526a73e32dd29ef6dabc5de360d347df27; Path=/', 'Strict-Transport-Security': 'max-age=31536000; includeSubDomains', 'X-XSS-Protection': '1; mode=block', 'X-Content-Type-Options': 'nosniff', 'X-Frame-Options': 'deny'}\n"
     ]
    }
   ],
   "source": [
    "import requests\n",
    "\n",
    "# url = 'http://api.worldbank.org/v2/en/country/DNK;URY' \n",
    "# response = requests.get(url, params={'downloadformat': 'csv'})\n",
    "url = 'http://api.worldbank.org/v2/en/indicator/EN.ATM.CO2E.KT?downloadformat=csv'\n",
    "response = requests.get(url)\n",
    "\n",
    "print(response.headers)"
   ]
  },
  {
   "cell_type": "markdown",
   "metadata": {},
   "source": [
    "# NOTES"
   ]
  },
  {
   "cell_type": "code",
   "execution_count": 12,
   "metadata": {},
   "outputs": [
    {
     "name": "stdout",
     "output_type": "stream",
     "text": [
      "['1', '2']\n"
     ]
    }
   ],
   "source": [
    "!python download_script.py 1 2"
   ]
  }
 ],
 "metadata": {
  "kernelspec": {
   "display_name": "Python 3",
   "language": "python",
   "name": "python3"
  },
  "language_info": {
   "codemirror_mode": {
    "name": "ipython",
    "version": 3
   },
   "file_extension": ".py",
   "mimetype": "text/x-python",
   "name": "python",
   "nbconvert_exporter": "python",
   "pygments_lexer": "ipython3",
   "version": "3.7.1"
  }
 },
 "nbformat": 4,
 "nbformat_minor": 2
}
