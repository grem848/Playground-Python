{
 "cells": [
  {
   "cell_type": "markdown",
   "metadata": {},
   "source": [
    "# 06-Lists Exercises"
   ]
  },
  {
   "cell_type": "markdown",
   "metadata": {},
   "source": [
    "  1. Create a list with the integer values from one to one million. Use `min()` and `max()` to make sure your list actually starts at one and ends at one million. Also, use the `sum()` function to compute the sum of all values and `%timeit`'s execution time.\n",
    "  "
   ]
  },
  {
   "cell_type": "code",
   "execution_count": 1,
   "metadata": {},
   "outputs": [
    {
     "name": "stdout",
     "output_type": "stream",
     "text": [
      "1\n",
      "1000000\n",
      "500000500000\n",
      "500000500000\n",
      "500000500000\n",
      "500000500000\n",
      "500000500000\n",
      "500000500000\n",
      "500000500000\n",
      "500000500000\n",
      "500000500000\n",
      "500000500000\n",
      "500000500000\n",
      "0.34853808499999994\n"
     ]
    }
   ],
   "source": [
    "import timeit\n",
    "\n",
    "list = range(1, 1000000 + 1)\n",
    "print(min(list))\n",
    "print(max(list))\n",
    "print(sum(list))\n",
    "\n",
    "\n",
    "cmd = 'list = range(1, 1000000 + 1); print(sum(list))'\n",
    "print(timeit.timeit(cmd, number=10))"
   ]
  },
  {
   "cell_type": "markdown",
   "metadata": {},
   "source": [
    "  2. Write a single line program that computes the sum of a range of integer values without using the `sum()` function and without using a loop."
   ]
  },
  {
   "cell_type": "code",
   "execution_count": null,
   "metadata": {},
   "outputs": [],
   "source": []
  },
  {
   "cell_type": "markdown",
   "metadata": {},
   "source": [
    "  3. Use the `range()` function to make a list of the odd numbers from 1 to 20. **Hint** in ipython and this notebooks you can see a functions help text by executing for example `range?`"
   ]
  },
  {
   "cell_type": "code",
   "execution_count": null,
   "metadata": {},
   "outputs": [],
   "source": []
  },
  {
   "cell_type": "markdown",
   "metadata": {},
   "source": [
    "  4. Create a list of the multiples of 3 from 3 to 30. **HINT: USE A LIST COMPREHENSION**"
   ]
  },
  {
   "cell_type": "code",
   "execution_count": null,
   "metadata": {},
   "outputs": [],
   "source": []
  },
  {
   "cell_type": "markdown",
   "metadata": {},
   "source": [
    "  5. A number raised to the third power is called a cube. For example, the cube of 2 is written as `2**3` in Python. Create a list of the first 10 cubes (that is, the cube of each integer from 1 through 10)."
   ]
  },
  {
   "cell_type": "code",
   "execution_count": null,
   "metadata": {},
   "outputs": [],
   "source": []
  },
  {
   "cell_type": "markdown",
   "metadata": {},
   "source": [
    "\n",
    "# 07-Functions and Modules Exercises"
   ]
  },
  {
   "cell_type": "markdown",
   "metadata": {},
   "source": [
    "  1. Write a function that iterates through a list and prints each value **without using a loop**. That is, write a recursive function to print the values of a list."
   ]
  },
  {
   "cell_type": "code",
   "execution_count": 2,
   "metadata": {},
   "outputs": [
    {
     "name": "stdout",
     "output_type": "stream",
     "text": [
      "3\n",
      "2\n",
      "1\n"
     ]
    }
   ],
   "source": [
    "my_list = [1,2,3]\n",
    "\n",
    "def print_each(my_list):\n",
    "    print((my_list[-1]))\n",
    "    my_list.remove(my_list[-1])\n",
    "    if(len(my_list) > 0):\n",
    "        print_each(my_list)\n",
    "        \n",
    "print_each(my_list)"
   ]
  },
  {
   "cell_type": "code",
   "execution_count": 3,
   "metadata": {},
   "outputs": [
    {
     "name": "stdout",
     "output_type": "stream",
     "text": [
      "0\n",
      "1\n",
      "2\n"
     ]
    }
   ],
   "source": [
    "def print_list(l, index =0):\n",
    "    if index != len(l):\n",
    "        print(l[index])\n",
    "        print_list(l, index + 1)\n",
    "        \n",
    "print_list([x for x in range(3)])"
   ]
  },
  {
   "cell_type": "code",
   "execution_count": 4,
   "metadata": {},
   "outputs": [
    {
     "name": "stdout",
     "output_type": "stream",
     "text": [
      "7\n",
      "5\n",
      "3\n",
      "1\n"
     ]
    }
   ],
   "source": [
    "print_each([1,3,5,7])"
   ]
  },
  {
   "cell_type": "markdown",
   "metadata": {},
   "source": [
    "  2. Write a module `webget.py` that exposes a function to download a file from the web in case it does not exist locally already. The function shall have the following signature `download(url, to=None)` where the keyword argument `to` specifies where to save a file locally and with which name. If `to == None` then the file shall be saved in the current working directory `./` with the same name as it has at its origin. For example, calling your program as in the following\n",
    "\n",
    "  ```python\n",
    "  import webget\n",
    "\n",
    "  url = 'http://data.kk.dk/dataset/76ecf368-bf2d-46a2-bcf8-adaf37662528/resource/9286af17-f74e-46c9-a428-9fb707542189/download/befkbhalderstatkode.csv'\n",
    "  webget.download(url)\n",
    "  ```\n",
    "\n",
    "  will download the remote file to `./befkbhalderstatkode.csv`.\n",
    "\n",
    "  Likely, you will need functions from the standard library modules `os`, and `urllib`. For example, read the doc strings for the following functions and implement the given function stub with help of them.\n",
    "\n",
    "    * `os.path.isfile?`\n",
    "    * `os.path.join?`\n",
    "    * `os.path.basename?`\n",
    "    * `urllib.parse?` \n",
    "    * `urllib.request.urlretrieve?`"
   ]
  },
  {
   "cell_type": "code",
   "execution_count": 15,
   "metadata": {},
   "outputs": [],
   "source": [
    "# import webget\n",
    "\n",
    "# moby_dick_url = 'http://i3.ytimg.com/vi/J---aiyznGQ/mqdefault.jpg'\n",
    "# webget.download(moby_dick_url)"
   ]
  },
  {
   "cell_type": "code",
   "execution_count": 6,
   "metadata": {
    "scrolled": true
   },
   "outputs": [
    {
     "name": "stdout",
     "output_type": "stream",
     "text": [
      "Beginning file download with urllib2...\n"
     ]
    }
   ],
   "source": [
    "import os\n",
    "import urllib.request as req\n",
    "from urllib.parse import urlparse\n",
    "\n",
    "moby_dick_url = 'http://i3.ytimg.com/vi/J---aiyznGQ/mqdefault.jpg'\n",
    "\n",
    "def download(url, to=None):\n",
    "    print('Beginning file download with urllib2...')\n",
    "    req.urlretrieve(url, to)\n",
    "download(moby_dick_url, \"cat.jpg\")"
   ]
  },
  {
   "cell_type": "markdown",
   "metadata": {},
   "source": [
    "# 08-Dictionaries\n"
   ]
  },
  {
   "cell_type": "markdown",
   "metadata": {},
   "source": [
    "Using the `str` in `fst_paragraph`, your job is to return a `dict` containing all the words as keys, and the *number of occurrences* for each word as value. \n",
    "For instance, the word `'Ishmael'` occurs once, so a key with `'Ishmael'` is expected to contain the value `1`: `{'Ishmael': 1}`"
   ]
  },
  {
   "cell_type": "code",
   "execution_count": 27,
   "metadata": {},
   "outputs": [
    {
     "data": {
      "text/plain": [
       "{'call': 1,\n",
       " 'me': 5,\n",
       " 'ishmael': 1,\n",
       " 'some': 2,\n",
       " 'years': 1,\n",
       " 'ago—never': 1,\n",
       " 'mind': 1,\n",
       " 'how': 1,\n",
       " 'long': 1,\n",
       " 'precisely—having': 1,\n",
       " 'little': 2,\n",
       " 'or': 2,\n",
       " 'no': 1,\n",
       " 'money': 1,\n",
       " 'in': 4,\n",
       " 'my': 4,\n",
       " 'purse': 1,\n",
       " 'and': 7,\n",
       " 'nothing': 2,\n",
       " 'particular': 1,\n",
       " 'to': 5,\n",
       " 'interest': 1,\n",
       " 'on': 1,\n",
       " 'shore': 1,\n",
       " 'i': 9,\n",
       " 'thought': 1,\n",
       " 'would': 1,\n",
       " 'sail': 1,\n",
       " 'about': 2,\n",
       " 'a': 5,\n",
       " 'see': 1,\n",
       " 'the': 10,\n",
       " 'watery': 1,\n",
       " 'part': 1,\n",
       " 'of': 4,\n",
       " 'world': 1,\n",
       " 'it': 5,\n",
       " 'is': 4,\n",
       " 'way': 1,\n",
       " 'have': 1,\n",
       " 'driving': 1,\n",
       " 'off': 1,\n",
       " 'spleen': 1,\n",
       " 'regulating': 1,\n",
       " 'circulation': 1,\n",
       " 'whenever': 4,\n",
       " 'find': 2,\n",
       " 'myself': 2,\n",
       " 'growing': 1,\n",
       " 'grim': 1,\n",
       " 'mouth': 1,\n",
       " 'damp': 1,\n",
       " 'drizzly': 1,\n",
       " 'november': 1,\n",
       " 'soul': 1,\n",
       " 'involuntarily': 1,\n",
       " 'pausing': 1,\n",
       " 'before': 1,\n",
       " 'coffin': 1,\n",
       " 'warehouses': 1,\n",
       " 'bringing': 1,\n",
       " 'up': 1,\n",
       " 'rear': 1,\n",
       " 'every': 1,\n",
       " 'funeral': 1,\n",
       " 'meet': 1,\n",
       " 'especially': 1,\n",
       " 'hypos': 1,\n",
       " 'get': 2,\n",
       " 'such': 1,\n",
       " 'an': 1,\n",
       " 'upper': 1,\n",
       " 'hand': 1,\n",
       " 'that': 1,\n",
       " 'requires': 1,\n",
       " 'strong': 1,\n",
       " 'moral': 1,\n",
       " 'principle': 1,\n",
       " 'prevent': 1,\n",
       " 'from': 1,\n",
       " 'deliberately': 1,\n",
       " 'stepping': 1,\n",
       " 'into': 1,\n",
       " 'street': 1,\n",
       " 'methodically': 1,\n",
       " 'knocking': 1,\n",
       " 'people’s': 1,\n",
       " 'hats': 1,\n",
       " 'off—then': 1,\n",
       " 'account': 1,\n",
       " 'high': 1,\n",
       " 'time': 2,\n",
       " 'sea': 1,\n",
       " 'as': 2,\n",
       " 'soon': 1,\n",
       " 'can': 1,\n",
       " 'this': 2,\n",
       " 'substitute': 1,\n",
       " 'for': 1,\n",
       " 'pistol': 1,\n",
       " 'ball': 1,\n",
       " 'with': 2,\n",
       " 'philosophical': 1,\n",
       " 'flourish': 1,\n",
       " 'cato': 1,\n",
       " 'throws': 1,\n",
       " 'himself': 1,\n",
       " 'upon': 1,\n",
       " 'his': 1,\n",
       " 'sword': 1,\n",
       " 'quietly': 1,\n",
       " 'take': 1,\n",
       " 'ship': 1,\n",
       " 'there': 1,\n",
       " 'surprising': 1,\n",
       " 'if': 1,\n",
       " 'they': 1,\n",
       " 'but': 1,\n",
       " 'knew': 1,\n",
       " 'almost': 1,\n",
       " 'all': 1,\n",
       " 'men': 1,\n",
       " 'their': 1,\n",
       " 'degree': 1,\n",
       " 'other': 1,\n",
       " 'cherish': 1,\n",
       " 'very': 1,\n",
       " 'nearly': 1,\n",
       " 'same': 1,\n",
       " 'feelings': 1,\n",
       " 'towards': 1,\n",
       " 'ocean': 1}"
      ]
     },
     "execution_count": 27,
     "metadata": {},
     "output_type": "execute_result"
    }
   ],
   "source": [
    "fst_paragraph = '''\n",
    "Call me Ishmael. Some years ago—never mind how long precisely—having\n",
    "little or no money in my purse, and nothing particular to interest me on\n",
    "shore, I thought I would sail about a little and see the watery part of\n",
    "the world. It is a way I have of driving off the spleen and regulating\n",
    "the circulation. Whenever I find myself growing grim about the mouth;\n",
    "whenever it is a damp, drizzly November in my soul; whenever I find\n",
    "myself involuntarily pausing before coffin warehouses, and bringing up\n",
    "the rear of every funeral I meet; and especially whenever my hypos get\n",
    "such an upper hand of me, that it requires a strong moral principle to\n",
    "prevent me from deliberately stepping into the street, and methodically\n",
    "knocking people’s hats off—then, I account it high time to get to\n",
    "sea as soon as I can. This is my substitute for pistol and ball. With\n",
    "a philosophical flourish Cato throws himself upon his sword; I quietly\n",
    "take to the ship. There is nothing surprising in this. If they but knew\n",
    "it, almost all men in their degree, some time or other, cherish very\n",
    "nearly the same feelings towards the ocean with me.'''\n",
    "\n",
    "cleaned = fst_paragraph.replace(',', '').replace('.', '').replace('\\n', ' ').replace(';', '')\n",
    "words = cleaned.lower().split()\n",
    "#words = cleaned.upper().split()\n",
    "count = {}\n",
    "for word in words:\n",
    "    count.setdefault(word, 0)\n",
    "    count[word] += 1\n",
    "count"
   ]
  },
  {
   "cell_type": "markdown",
   "metadata": {},
   "source": [
    "# 9-CLI Programs"
   ]
  },
  {
   "cell_type": "markdown",
   "metadata": {},
   "source": [
    "git-bash: python download_script.py 1 2"
   ]
  },
  {
   "cell_type": "code",
   "execution_count": 9,
   "metadata": {},
   "outputs": [
    {
     "name": "stdout",
     "output_type": "stream",
     "text": [
      "['-f', 'C:\\\\Users\\\\Andreas Heick Laptop\\\\AppData\\\\Roaming\\\\jupyter\\\\runtime\\\\kernel-1502d1e6-7eaa-42a7-8727-2c98d74994e1.json']\n"
     ]
    }
   ],
   "source": [
    "import sys\n",
    "\n",
    "print(sys.argv[1:])"
   ]
  },
  {
   "cell_type": "markdown",
   "metadata": {},
   "source": [
    "# 10-Working with Files"
   ]
  },
  {
   "cell_type": "code",
   "execution_count": 10,
   "metadata": {
    "scrolled": true
   },
   "outputs": [
    {
     "name": "stdout",
     "output_type": "stream",
     "text": [
      "import webget\n",
      "import sys\n",
      "\n",
      "urls = sys.argv[1:]\n",
      "webget.download(urls)\n",
      "\n"
     ]
    }
   ],
   "source": [
    "with open('download_script.py') as fp:\n",
    "    print(fp.read())"
   ]
  },
  {
   "cell_type": "code",
   "execution_count": 11,
   "metadata": {
    "scrolled": false
   },
   "outputs": [
    {
     "name": "stdout",
     "output_type": "stream",
     "text": [
      "Fisher's Iris Data\n",
      "<Worksheet \"Fisher's Iris Data\">\n"
     ]
    },
    {
     "name": "stderr",
     "output_type": "stream",
     "text": [
      "C:\\Users\\Andreas Heick Laptop\\Anaconda3\\lib\\site-packages\\ipykernel_launcher.py:7: DeprecationWarning: Call to deprecated function get_sheet_by_name (Use wb[sheetname]).\n",
      "  import sys\n",
      "C:\\Users\\Andreas Heick Laptop\\Anaconda3\\lib\\site-packages\\ipykernel_launcher.py:9: DeprecationWarning: Call to deprecated function get_active_sheet (Use the .active property).\n",
      "  if __name__ == '__main__':\n"
     ]
    }
   ],
   "source": [
    "import openpyxl\n",
    "\n",
    "# created from: https://en.wikipedia.org/wiki/Iris_flower_data_set#Data_set\n",
    "filename = 'iris_data.xlsx'\n",
    "wb = openpyxl.load_workbook(filename)\n",
    "\n",
    "sheet = wb.get_sheet_by_name(\"Fisher's Iris Data\")\n",
    "print(sheet.title)\n",
    "print(wb.get_active_sheet())"
   ]
  },
  {
   "cell_type": "markdown",
   "metadata": {},
   "source": [
    "# 15-Intro to Numpy"
   ]
  },
  {
   "cell_type": "markdown",
   "metadata": {},
   "source": [
    "### Class exercise: table\n",
    "- on the above image find the 3 different slicings using only the array slicing notation"
   ]
  },
  {
   "cell_type": "code",
   "execution_count": 12,
   "metadata": {},
   "outputs": [
    {
     "name": "stdout",
     "output_type": "stream",
     "text": [
      "10\n",
      "----------\n",
      "[11 12 13]\n",
      "----------\n",
      "[12 17 22]\n",
      "----------\n",
      "[[11 13]\n",
      " [16 18]\n",
      " [21 23]\n",
      " [26 28]]\n",
      "----------\n",
      "[14 24]\n"
     ]
    }
   ],
   "source": [
    "# the following line is jupyter notebook specific \n",
    "%matplotlib inline\n",
    "import numpy as np\n",
    "aaa = np.arange(10, 30).reshape(4, 5)\n",
    "print(aaa[0,0])\n",
    "print(\"----------\")\n",
    "print(aaa[0,1:4])\n",
    "print(\"----------\")\n",
    "print(aaa[0:3,2])\n",
    "print(\"----------\")\n",
    "print(aaa[0:4,1::2])\n",
    "print(\"----------\")\n",
    "print(aaa[::2,4])"
   ]
  },
  {
   "cell_type": "markdown",
   "metadata": {},
   "source": [
    "### Class exercise: cube\n",
    "1. Slice out [12 13 14] from the above cube using only one slice. e.g: a[:,:,:]\n",
    "2. Slice out [3 12 21].\n",
    "3. Slice out all y-values where x is 2 and z is 0."
   ]
  },
  {
   "cell_type": "code",
   "execution_count": 1,
   "metadata": {},
   "outputs": [
    {
     "name": "stdout",
     "output_type": "stream",
     "text": [
      "[12 13 14]\n",
      "----------\n",
      "[ 3 12 21]\n",
      "----------\n",
      "[2 5 8]\n"
     ]
    }
   ],
   "source": [
    "%matplotlib inline\n",
    "import numpy as np\n",
    "a = np.arange(0, 27).reshape((3, 3, 3)) # = (z, y, x)\n",
    "\n",
    "print(a[1,1,0:3])\n",
    "print(\"----------\")\n",
    "print(a[0:3,1,0])\n",
    "print(\"----------\")\n",
    "print(a[0,:,2])"
   ]
  },
  {
   "cell_type": "markdown",
   "metadata": {},
   "source": [
    "### Class exercise: masking\n",
    "- For the dataset: `data = np.arange(1,101).reshape(10,10)`\n",
    "  - apply a mask that will return only the even numbers\n",
    "  - using `np.where()` return only numbers that ends with 6\n",
    "  - using the operators: `%` or `|` mask away both numbers that is divisible by 3 and numbers begging with 8\n"
   ]
  },
  {
   "cell_type": "code",
   "execution_count": 5,
   "metadata": {},
   "outputs": [
    {
     "name": "stdout",
     "output_type": "stream",
     "text": [
      "[  2   4   6   8  10  12  14  16  18  20  22  24  26  28  30  32  34  36\n",
      "  38  40  42  44  46  48  50  52  54  56  58  60  62  64  66  68  70  72\n",
      "  74  76  78  80  82  84  86  88  90  92  94  96  98 100]\n",
      "---------\n",
      "[ 6 16 26 36 46 56 66 76 86 96]\n",
      "---------\n",
      "[ 11  13  14  16  17  19  20  22  23  25  26  28  29  31  32  34  35  37\n",
      "  38  40  41  43  44  46  47  49  50  52  53  55  56  58  59  61  62  64\n",
      "  65  67  68  70  71  73  74  76  77  79  91  92  94  95  97  98 100]\n",
      "---------\n"
     ]
    }
   ],
   "source": [
    "%matplotlib inline\n",
    "import numpy as np\n",
    "# solution:\n",
    "data = np.arange(1,101).reshape(10,10)\n",
    "e = data[data%2 == 0]\n",
    "print(e)\n",
    "print(\"---------\")\n",
    "print(data[np.where(data%10 == 6)])\n",
    "print(\"---------\")\n",
    "print(data[np.where((data%3 != 0) & (data%80 > 10))])\n",
    "print(\"---------\")\n",
    "# nump.masking_ex()"
   ]
  },
  {
   "cell_type": "markdown",
   "metadata": {},
   "source": [
    "# 16-Pandas"
   ]
  },
  {
   "cell_type": "markdown",
   "metadata": {},
   "source": [
    "# Class exercise with dates\n",
    "Create a function: get_meeting_dates in a module called myUtilities.py\n",
    "- the function must take 3 arguments (start_date=now, period_as_timedelta, time_of_day, number_of_meetings)\n",
    "- the function should then return a list of datetimes for a series of meetings that should take place from start_date and evenly distributed throughout the period.\n",
    "- create another list of number of attendents, that was actually there at each meeting.\n",
    "- create a bar plot of attendance through the series of meetings."
   ]
  },
  {
   "cell_type": "code",
   "execution_count": null,
   "metadata": {},
   "outputs": [],
   "source": [
    "%pylab inline"
   ]
  },
  {
   "cell_type": "code",
   "execution_count": 51,
   "metadata": {},
   "outputs": [
    {
     "data": {
      "text/plain": [
       "[datetime.datetime(2019, 3, 5, 17, 0),\n",
       " datetime.datetime(2019, 3, 9, 17, 0),\n",
       " datetime.datetime(2019, 3, 14, 17, 0),\n",
       " datetime.datetime(2019, 3, 19, 17, 0),\n",
       " datetime.datetime(2019, 3, 24, 17, 0),\n",
       " datetime.datetime(2019, 3, 29, 17, 0),\n",
       " datetime.datetime(2019, 4, 3, 17, 0)]"
      ]
     },
     "execution_count": 51,
     "metadata": {},
     "output_type": "execute_result"
    }
   ],
   "source": [
    "from datetime import datetime, date, time, timedelta\n",
    "import numpy as np\n",
    "\n",
    "\n",
    "def get_meeting_dates (period_as_timedelta, time_of_day, number_of_meetings, start_date=datetime.today()):\n",
    "# Error Handling\n",
    "    if number_of_meetings > period_as_timedelta.days:\n",
    "        raise ValueError('Too many meetings!')\n",
    "        \n",
    "# day_deltas (linspace) spreads the meetings from 0 to period days -1\n",
    "    day_deltas = np.linspace(0, period_as_timedelta.days - 1, number_of_meetings, dtype=int)\n",
    "# define base time of day for a meeting\n",
    "    base_time_of_day = datetime.combine(start_date, time_of_day)\n",
    "# voodoo magic :D\n",
    "    list_of_meetings = [base_time_of_day + timedelta(int(day_delta)) for day_delta in day_deltas]\n",
    "    \n",
    "    return list_of_meetings\n",
    "\n",
    "get_meeting_dates(timedelta(30), time(17,0), 7)\n",
    "\n",
    "\n",
    "    \n",
    "    "
   ]
  },
  {
   "cell_type": "code",
   "execution_count": 78,
   "metadata": {},
   "outputs": [
    {
     "data": {
      "text/html": [
       "<div>\n",
       "<style scoped>\n",
       "    .dataframe tbody tr th:only-of-type {\n",
       "        vertical-align: middle;\n",
       "    }\n",
       "\n",
       "    .dataframe tbody tr th {\n",
       "        vertical-align: top;\n",
       "    }\n",
       "\n",
       "    .dataframe thead th {\n",
       "        text-align: right;\n",
       "    }\n",
       "</style>\n",
       "<table border=\"1\" class=\"dataframe\">\n",
       "  <thead>\n",
       "    <tr style=\"text-align: right;\">\n",
       "      <th></th>\n",
       "      <th>AAR</th>\n",
       "      <th>BYDEL</th>\n",
       "      <th>ALDER</th>\n",
       "      <th>STATKODE</th>\n",
       "      <th>PERSONER</th>\n",
       "    </tr>\n",
       "  </thead>\n",
       "  <tbody>\n",
       "    <tr>\n",
       "      <th>0</th>\n",
       "      <td>2015</td>\n",
       "      <td>1</td>\n",
       "      <td>0</td>\n",
       "      <td>5100</td>\n",
       "      <td>614</td>\n",
       "    </tr>\n",
       "  </tbody>\n",
       "</table>\n",
       "</div>"
      ],
      "text/plain": [
       "    AAR  BYDEL  ALDER  STATKODE  PERSONER\n",
       "0  2015      1      0      5100       614"
      ]
     },
     "execution_count": 78,
     "metadata": {},
     "output_type": "execute_result"
    }
   ],
   "source": [
    "import pandas as pd\n",
    "df = pd.read_csv('befkbhalderstatkode.csv')\n",
    "# print(df)\n",
    "# print(type(df))\n",
    "# print(df.columns)\n",
    "# print(df.shape)\n",
    "# print(type(df['ALDER']))\n",
    "# print(type(df.iloc[:,0]))\n",
    "# print(df['ALDER'][1])\n",
    "# print(df.iloc[1][2])\n",
    "df.iloc[:1][:2]"
   ]
  },
  {
   "cell_type": "code",
   "execution_count": 81,
   "metadata": {},
   "outputs": [
    {
     "name": "stdout",
     "output_type": "stream",
     "text": [
      "{'Date': 'Tue, 05 Mar 2019 13:41:42 GMT', 'Content-Type': 'application/zip', 'Content-Length': '75906', 'Connection': 'keep-alive', 'Content-Disposition': 'attachment; filename=API_EN.ATM.CO2E.KT_DS2_en_csv_v2_10473877.zip', 'X-Powered-By': 'ASP.NET', 'Set-Cookie': 'TS01fa65e4=01359ee9764da72eaffe9f321c78f54be6c97d71526a73e32dd29ef6dabc5de360d347df27; Path=/', 'Strict-Transport-Security': 'max-age=31536000; includeSubDomains', 'X-XSS-Protection': '1; mode=block', 'X-Content-Type-Options': 'nosniff', 'X-Frame-Options': 'deny'}\n"
     ]
    }
   ],
   "source": [
    "import requests\n",
    "\n",
    "# url = 'http://api.worldbank.org/v2/en/country/DNK;URY' \n",
    "# response = requests.get(url, params={'downloadformat': 'csv'})\n",
    "url = 'http://api.worldbank.org/v2/en/indicator/EN.ATM.CO2E.KT?downloadformat=csv'\n",
    "response = requests.get(url)\n",
    "\n",
    "print(response.headers)"
   ]
  },
  {
   "cell_type": "markdown",
   "metadata": {},
   "source": [
    "# 17-Handling Data"
   ]
  },
  {
   "cell_type": "code",
   "execution_count": 10,
   "metadata": {},
   "outputs": [
    {
     "name": "stdout",
     "output_type": "stream",
     "text": [
      "The globe is heating up!\n",
      "global_warming\n",
      "UN expert panel says: The globe is heating up!\n",
      "__main__\n"
     ]
    }
   ],
   "source": [
    "import un\n",
    "\n",
    "!python un.py"
   ]
  },
  {
   "cell_type": "markdown",
   "metadata": {},
   "source": [
    "# 17-Generator"
   ]
  },
  {
   "cell_type": "code",
   "execution_count": 23,
   "metadata": {},
   "outputs": [
    {
     "name": "stdout",
     "output_type": "stream",
     "text": [
      "499999500000\n",
      "[0, 1, 2, 3, 4, 5, 6, 7, 8, 9, 10, 11, 12, 13, 14, 15, 16, 17, 18, 19, 20, 21, 22, 23, 24, 25, 26, 27, 28, 29, 30, 31, 32, 33, 34, 35, 36, 37, 38, 39, 40, 41, 42, 43, 44, 45, 46, 47, 48, 49, 50, 51, 52, 53, 54, 55, 56, 57, 58, 59, 60, 61, 62, 63, 64, 65, 66, 67, 68, 69, 70, 71, 72, 73, 74, 75, 76, 77, 78, 79, 80, 81, 82, 83, 84, 85, 86, 87, 88, 89, 90, 91, 92, 93, 94, 95, 96, 97, 98, 99]\n"
     ]
    }
   ],
   "source": [
    "# a generator that yields items instead of returning a list\n",
    "def firstn(n):\n",
    "    num = 0\n",
    "    while num < n:\n",
    "        yield num\n",
    "        num += 1\n",
    "\n",
    "sum_of_first_n = sum(firstn(1000000))\n",
    "print(sum_of_first_n)\n",
    "print([x for x in firstn(100)])"
   ]
  },
  {
   "cell_type": "markdown",
   "metadata": {},
   "source": [
    "# 17-Intro to Requests \n"
   ]
  },
  {
   "cell_type": "code",
   "execution_count": 3,
   "metadata": {},
   "outputs": [
    {
     "name": "stdout",
     "output_type": "stream",
     "text": [
      "4999\n",
      "1552403516\n",
      "2019-03-12 16:11:56\n",
      "[('grem848', 62, 'https://github.com/grem848'), ('Lars-m', 14, 'https://github.com/Lars-m'), ('moh682', 12, 'https://github.com/moh682'), ('judre', 4, 'https://github.com/judre')]\n",
      "There are 4 contributors to Exam3sem\n"
     ]
    }
   ],
   "source": [
    "import api_keys\n",
    "import requests\n",
    "from datetime import datetime\n",
    "from urllib.parse import urlparse\n",
    "\n",
    "# url = 'https://api.github.com/repos/grem848/Exam3sem-Frontend/contributors'\n",
    "url = 'https://api.github.com/repos/grem848/Exam3sem-JWTBackend/contributors'\n",
    "headers = {'Authorization': 'token {}'.format(api_keys.GITHUB_API_KEY)}\n",
    "\n",
    "r = requests.get(url, headers=headers)\n",
    "    \n",
    "print(r.headers['X-RateLimit-Remaining'])\n",
    "print(r.headers['X-RateLimit-Reset'])\n",
    "print(datetime.fromtimestamp(int(r.headers['X-RateLimit-Reset'])))\n",
    "\n",
    "contributors = [(contrib['login'], contrib['contributions'], contrib['html_url'])\n",
    "                for contrib in r.json()]\n",
    " \n",
    "print(contributors)\n",
    "print('There are {} contributors to Exam3sem'.format(len(contributors)))"
   ]
  },
  {
   "cell_type": "code",
   "execution_count": 5,
   "metadata": {},
   "outputs": [],
   "source": [
    "import pygal\n",
    "\n",
    "chart = pygal.Bar(x_label_rotation=80, show_legend=False, spacing=170, \n",
    "                  height=1000, width=4000)\n",
    "chart.title = 'Contributions to Exam3sem on GitHub'\n",
    "\n",
    "names, no_contrib, _ = zip(*contributors)"
   ]
  },
  {
   "cell_type": "code",
   "execution_count": 6,
   "metadata": {},
   "outputs": [],
   "source": [
    "values = []\n",
    "for label, value, link in contributors:\n",
    "    s_dict = {\n",
    "    'value': value,\n",
    "    'label': label,\n",
    "    'xlink': {'href': link}}\n",
    "    values.append(s_dict)"
   ]
  },
  {
   "cell_type": "code",
   "execution_count": 14,
   "metadata": {},
   "outputs": [],
   "source": [
    "chart.x_labels = names\n",
    "chart.add('', values) \n",
    "chart.render_to_file('contrib_flask.svg')"
   ]
  },
  {
   "cell_type": "code",
   "execution_count": 15,
   "metadata": {},
   "outputs": [
    {
     "data": {
      "image/svg+xml": [
       "<svg class=\"pygal-chart\" id=\"chart-2c1e6e80-310d-411e-9034-6bd2400a2fd1\" viewBox=\"0 0 4000 1000\" xmlns=\"http://www.w3.org/2000/svg\" xmlns:xlink=\"http://www.w3.org/1999/xlink\"><!--Generated with pygal 2.4.0 (lxml) ©Kozea 2012-2016 on 2019-03-12--><!--http://pygal.org--><!--http://github.com/Kozea/pygal--><defs><style type=\"text/css\">#chart-2c1e6e80-310d-411e-9034-6bd2400a2fd1{-webkit-user-select:none;-webkit-font-smoothing:antialiased;font-family:Consolas,&quot;Liberation Mono&quot;,Menlo,Courier,monospace}#chart-2c1e6e80-310d-411e-9034-6bd2400a2fd1 .title{font-family:Consolas,&quot;Liberation Mono&quot;,Menlo,Courier,monospace;font-size:16px}#chart-2c1e6e80-310d-411e-9034-6bd2400a2fd1 .legends .legend text{font-family:Consolas,&quot;Liberation Mono&quot;,Menlo,Courier,monospace;font-size:14px}#chart-2c1e6e80-310d-411e-9034-6bd2400a2fd1 .axis text{font-family:Consolas,&quot;Liberation Mono&quot;,Menlo,Courier,monospace;font-size:10px}#chart-2c1e6e80-310d-411e-9034-6bd2400a2fd1 .axis text.major{font-family:Consolas,&quot;Liberation Mono&quot;,Menlo,Courier,monospace;font-size:10px}#chart-2c1e6e80-310d-411e-9034-6bd2400a2fd1 .text-overlay text.value{font-family:Consolas,&quot;Liberation Mono&quot;,Menlo,Courier,monospace;font-size:16px}#chart-2c1e6e80-310d-411e-9034-6bd2400a2fd1 .text-overlay text.label{font-family:Consolas,&quot;Liberation Mono&quot;,Menlo,Courier,monospace;font-size:10px}#chart-2c1e6e80-310d-411e-9034-6bd2400a2fd1 .tooltip{font-family:Consolas,&quot;Liberation Mono&quot;,Menlo,Courier,monospace;font-size:14px}#chart-2c1e6e80-310d-411e-9034-6bd2400a2fd1 text.no_data{font-family:Consolas,&quot;Liberation Mono&quot;,Menlo,Courier,monospace;font-size:64px}\n",
       "#chart-2c1e6e80-310d-411e-9034-6bd2400a2fd1{background-color:rgba(249,249,249,1)}#chart-2c1e6e80-310d-411e-9034-6bd2400a2fd1 path,#chart-2c1e6e80-310d-411e-9034-6bd2400a2fd1 line,#chart-2c1e6e80-310d-411e-9034-6bd2400a2fd1 rect,#chart-2c1e6e80-310d-411e-9034-6bd2400a2fd1 circle{-webkit-transition:150ms;-moz-transition:150ms;transition:150ms}#chart-2c1e6e80-310d-411e-9034-6bd2400a2fd1 .graph &gt; .background{fill:rgba(249,249,249,1)}#chart-2c1e6e80-310d-411e-9034-6bd2400a2fd1 .plot &gt; .background{fill:rgba(255,255,255,1)}#chart-2c1e6e80-310d-411e-9034-6bd2400a2fd1 .graph{fill:rgba(0,0,0,.87)}#chart-2c1e6e80-310d-411e-9034-6bd2400a2fd1 text.no_data{fill:rgba(0,0,0,1)}#chart-2c1e6e80-310d-411e-9034-6bd2400a2fd1 .title{fill:rgba(0,0,0,1)}#chart-2c1e6e80-310d-411e-9034-6bd2400a2fd1 .legends .legend text{fill:rgba(0,0,0,.87)}#chart-2c1e6e80-310d-411e-9034-6bd2400a2fd1 .legends .legend:hover text{fill:rgba(0,0,0,1)}#chart-2c1e6e80-310d-411e-9034-6bd2400a2fd1 .axis .line{stroke:rgba(0,0,0,1)}#chart-2c1e6e80-310d-411e-9034-6bd2400a2fd1 .axis .guide.line{stroke:rgba(0,0,0,.54)}#chart-2c1e6e80-310d-411e-9034-6bd2400a2fd1 .axis .major.line{stroke:rgba(0,0,0,.87)}#chart-2c1e6e80-310d-411e-9034-6bd2400a2fd1 .axis text.major{fill:rgba(0,0,0,1)}#chart-2c1e6e80-310d-411e-9034-6bd2400a2fd1 .axis.y .guides:hover .guide.line,#chart-2c1e6e80-310d-411e-9034-6bd2400a2fd1 .line-graph .axis.x .guides:hover .guide.line,#chart-2c1e6e80-310d-411e-9034-6bd2400a2fd1 .stackedline-graph .axis.x .guides:hover .guide.line,#chart-2c1e6e80-310d-411e-9034-6bd2400a2fd1 .xy-graph .axis.x .guides:hover .guide.line{stroke:rgba(0,0,0,1)}#chart-2c1e6e80-310d-411e-9034-6bd2400a2fd1 .axis .guides:hover text{fill:rgba(0,0,0,1)}#chart-2c1e6e80-310d-411e-9034-6bd2400a2fd1 .reactive{fill-opacity:.7;stroke-opacity:.8}#chart-2c1e6e80-310d-411e-9034-6bd2400a2fd1 .ci{stroke:rgba(0,0,0,.87)}#chart-2c1e6e80-310d-411e-9034-6bd2400a2fd1 .reactive.active,#chart-2c1e6e80-310d-411e-9034-6bd2400a2fd1 .active .reactive{fill-opacity:.8;stroke-opacity:.9;stroke-width:4}#chart-2c1e6e80-310d-411e-9034-6bd2400a2fd1 .ci .reactive.active{stroke-width:1.5}#chart-2c1e6e80-310d-411e-9034-6bd2400a2fd1 .series text{fill:rgba(0,0,0,1)}#chart-2c1e6e80-310d-411e-9034-6bd2400a2fd1 .tooltip rect{fill:rgba(255,255,255,1);stroke:rgba(0,0,0,1);-webkit-transition:opacity 150ms;-moz-transition:opacity 150ms;transition:opacity 150ms}#chart-2c1e6e80-310d-411e-9034-6bd2400a2fd1 .tooltip .label{fill:rgba(0,0,0,.87)}#chart-2c1e6e80-310d-411e-9034-6bd2400a2fd1 .tooltip .label{fill:rgba(0,0,0,.87)}#chart-2c1e6e80-310d-411e-9034-6bd2400a2fd1 .tooltip .legend{font-size:.8em;fill:rgba(0,0,0,.54)}#chart-2c1e6e80-310d-411e-9034-6bd2400a2fd1 .tooltip .x_label{font-size:.6em;fill:rgba(0,0,0,1)}#chart-2c1e6e80-310d-411e-9034-6bd2400a2fd1 .tooltip .xlink{font-size:.5em;text-decoration:underline}#chart-2c1e6e80-310d-411e-9034-6bd2400a2fd1 .tooltip .value{font-size:1.5em}#chart-2c1e6e80-310d-411e-9034-6bd2400a2fd1 .bound{font-size:.5em}#chart-2c1e6e80-310d-411e-9034-6bd2400a2fd1 .max-value{font-size:.75em;fill:rgba(0,0,0,.54)}#chart-2c1e6e80-310d-411e-9034-6bd2400a2fd1 .map-element{fill:rgba(255,255,255,1);stroke:rgba(0,0,0,.54) !important}#chart-2c1e6e80-310d-411e-9034-6bd2400a2fd1 .map-element .reactive{fill-opacity:inherit;stroke-opacity:inherit}#chart-2c1e6e80-310d-411e-9034-6bd2400a2fd1 .color-0,#chart-2c1e6e80-310d-411e-9034-6bd2400a2fd1 .color-0 a:visited{stroke:#F44336;fill:#F44336}#chart-2c1e6e80-310d-411e-9034-6bd2400a2fd1 .color-1,#chart-2c1e6e80-310d-411e-9034-6bd2400a2fd1 .color-1 a:visited{stroke:#3F51B5;fill:#3F51B5}#chart-2c1e6e80-310d-411e-9034-6bd2400a2fd1 .color-2,#chart-2c1e6e80-310d-411e-9034-6bd2400a2fd1 .color-2 a:visited{stroke:#009688;fill:#009688}#chart-2c1e6e80-310d-411e-9034-6bd2400a2fd1 .color-3,#chart-2c1e6e80-310d-411e-9034-6bd2400a2fd1 .color-3 a:visited{stroke:#FFC107;fill:#FFC107}#chart-2c1e6e80-310d-411e-9034-6bd2400a2fd1 .color-4,#chart-2c1e6e80-310d-411e-9034-6bd2400a2fd1 .color-4 a:visited{stroke:#FF5722;fill:#FF5722}#chart-2c1e6e80-310d-411e-9034-6bd2400a2fd1 .color-5,#chart-2c1e6e80-310d-411e-9034-6bd2400a2fd1 .color-5 a:visited{stroke:#9C27B0;fill:#9C27B0}#chart-2c1e6e80-310d-411e-9034-6bd2400a2fd1 .text-overlay .color-0 text{fill:black}#chart-2c1e6e80-310d-411e-9034-6bd2400a2fd1 .text-overlay .color-1 text{fill:black}#chart-2c1e6e80-310d-411e-9034-6bd2400a2fd1 .text-overlay .color-2 text{fill:black}#chart-2c1e6e80-310d-411e-9034-6bd2400a2fd1 .text-overlay .color-3 text{fill:black}#chart-2c1e6e80-310d-411e-9034-6bd2400a2fd1 .text-overlay .color-4 text{fill:black}#chart-2c1e6e80-310d-411e-9034-6bd2400a2fd1 .text-overlay .color-5 text{fill:black}\n",
       "#chart-2c1e6e80-310d-411e-9034-6bd2400a2fd1 text.no_data{text-anchor:middle}#chart-2c1e6e80-310d-411e-9034-6bd2400a2fd1 .guide.line{fill:none}#chart-2c1e6e80-310d-411e-9034-6bd2400a2fd1 .centered{text-anchor:middle}#chart-2c1e6e80-310d-411e-9034-6bd2400a2fd1 .title{text-anchor:middle}#chart-2c1e6e80-310d-411e-9034-6bd2400a2fd1 .legends .legend text{fill-opacity:1}#chart-2c1e6e80-310d-411e-9034-6bd2400a2fd1 .axis.x text{text-anchor:middle}#chart-2c1e6e80-310d-411e-9034-6bd2400a2fd1 .axis.x:not(.web) text[transform]{text-anchor:start}#chart-2c1e6e80-310d-411e-9034-6bd2400a2fd1 .axis.x:not(.web) text[transform].backwards{text-anchor:end}#chart-2c1e6e80-310d-411e-9034-6bd2400a2fd1 .axis.y text{text-anchor:end}#chart-2c1e6e80-310d-411e-9034-6bd2400a2fd1 .axis.y text[transform].backwards{text-anchor:start}#chart-2c1e6e80-310d-411e-9034-6bd2400a2fd1 .axis.y2 text{text-anchor:start}#chart-2c1e6e80-310d-411e-9034-6bd2400a2fd1 .axis.y2 text[transform].backwards{text-anchor:end}#chart-2c1e6e80-310d-411e-9034-6bd2400a2fd1 .axis .guide.line{stroke-dasharray:4,4}#chart-2c1e6e80-310d-411e-9034-6bd2400a2fd1 .axis .major.guide.line{stroke-dasharray:6,6}#chart-2c1e6e80-310d-411e-9034-6bd2400a2fd1 .horizontal .axis.y .guide.line,#chart-2c1e6e80-310d-411e-9034-6bd2400a2fd1 .horizontal .axis.y2 .guide.line,#chart-2c1e6e80-310d-411e-9034-6bd2400a2fd1 .vertical .axis.x .guide.line{opacity:0}#chart-2c1e6e80-310d-411e-9034-6bd2400a2fd1 .horizontal .axis.always_show .guide.line,#chart-2c1e6e80-310d-411e-9034-6bd2400a2fd1 .vertical .axis.always_show .guide.line{opacity:1 !important}#chart-2c1e6e80-310d-411e-9034-6bd2400a2fd1 .axis.y .guides:hover .guide.line,#chart-2c1e6e80-310d-411e-9034-6bd2400a2fd1 .axis.y2 .guides:hover .guide.line,#chart-2c1e6e80-310d-411e-9034-6bd2400a2fd1 .axis.x .guides:hover .guide.line{opacity:1}#chart-2c1e6e80-310d-411e-9034-6bd2400a2fd1 .axis .guides:hover text{opacity:1}#chart-2c1e6e80-310d-411e-9034-6bd2400a2fd1 .nofill{fill:none}#chart-2c1e6e80-310d-411e-9034-6bd2400a2fd1 .subtle-fill{fill-opacity:.2}#chart-2c1e6e80-310d-411e-9034-6bd2400a2fd1 .dot{stroke-width:1px;fill-opacity:1}#chart-2c1e6e80-310d-411e-9034-6bd2400a2fd1 .dot.active{stroke-width:5px}#chart-2c1e6e80-310d-411e-9034-6bd2400a2fd1 .dot.negative{fill:transparent}#chart-2c1e6e80-310d-411e-9034-6bd2400a2fd1 text,#chart-2c1e6e80-310d-411e-9034-6bd2400a2fd1 tspan{stroke:none !important}#chart-2c1e6e80-310d-411e-9034-6bd2400a2fd1 .series text.active{opacity:1}#chart-2c1e6e80-310d-411e-9034-6bd2400a2fd1 .tooltip rect{fill-opacity:.95;stroke-width:.5}#chart-2c1e6e80-310d-411e-9034-6bd2400a2fd1 .tooltip text{fill-opacity:1}#chart-2c1e6e80-310d-411e-9034-6bd2400a2fd1 .showable{visibility:hidden}#chart-2c1e6e80-310d-411e-9034-6bd2400a2fd1 .showable.shown{visibility:visible}#chart-2c1e6e80-310d-411e-9034-6bd2400a2fd1 .gauge-background{fill:rgba(229,229,229,1);stroke:none}#chart-2c1e6e80-310d-411e-9034-6bd2400a2fd1 .bg-lines{stroke:rgba(249,249,249,1);stroke-width:2px}</style><script type=\"text/javascript\">window.pygal = window.pygal || {};window.pygal.config = window.pygal.config || {};window.pygal.config['2c1e6e80-310d-411e-9034-6bd2400a2fd1'] = {&quot;allow_interruptions&quot;: false, &quot;box_mode&quot;: &quot;extremes&quot;, &quot;classes&quot;: [&quot;pygal-chart&quot;], &quot;css&quot;: [&quot;file://style.css&quot;, &quot;file://graph.css&quot;], &quot;defs&quot;: [], &quot;disable_xml_declaration&quot;: false, &quot;dots_size&quot;: 2.5, &quot;dynamic_print_values&quot;: false, &quot;explicit_size&quot;: false, &quot;fill&quot;: false, &quot;force_uri_protocol&quot;: &quot;https&quot;, &quot;formatter&quot;: null, &quot;half_pie&quot;: false, &quot;height&quot;: 1000, &quot;include_x_axis&quot;: false, &quot;inner_radius&quot;: 0, &quot;interpolate&quot;: null, &quot;interpolation_parameters&quot;: {}, &quot;interpolation_precision&quot;: 250, &quot;inverse_y_axis&quot;: false, &quot;js&quot;: [&quot;//kozea.github.io/pygal.js/2.0.x/pygal-tooltips.min.js&quot;], &quot;legend_at_bottom&quot;: false, &quot;legend_at_bottom_columns&quot;: null, &quot;legend_box_size&quot;: 12, &quot;logarithmic&quot;: false, &quot;margin&quot;: 20, &quot;margin_bottom&quot;: null, &quot;margin_left&quot;: null, &quot;margin_right&quot;: null, &quot;margin_top&quot;: null, &quot;max_scale&quot;: 16, &quot;min_scale&quot;: 4, &quot;missing_value_fill_truncation&quot;: &quot;x&quot;, &quot;no_data_text&quot;: &quot;No data&quot;, &quot;no_prefix&quot;: false, &quot;order_min&quot;: null, &quot;pretty_print&quot;: false, &quot;print_labels&quot;: false, &quot;print_values&quot;: false, &quot;print_values_position&quot;: &quot;center&quot;, &quot;print_zeroes&quot;: true, &quot;range&quot;: null, &quot;rounded_bars&quot;: null, &quot;secondary_range&quot;: null, &quot;show_dots&quot;: true, &quot;show_legend&quot;: false, &quot;show_minor_x_labels&quot;: true, &quot;show_minor_y_labels&quot;: true, &quot;show_only_major_dots&quot;: false, &quot;show_x_guides&quot;: false, &quot;show_x_labels&quot;: true, &quot;show_y_guides&quot;: true, &quot;show_y_labels&quot;: true, &quot;spacing&quot;: 170, &quot;stack_from_top&quot;: false, &quot;strict&quot;: false, &quot;stroke&quot;: true, &quot;stroke_style&quot;: null, &quot;style&quot;: {&quot;background&quot;: &quot;rgba(249, 249, 249, 1)&quot;, &quot;ci_colors&quot;: [], &quot;colors&quot;: [&quot;#F44336&quot;, &quot;#3F51B5&quot;, &quot;#009688&quot;, &quot;#FFC107&quot;, &quot;#FF5722&quot;, &quot;#9C27B0&quot;, &quot;#03A9F4&quot;, &quot;#8BC34A&quot;, &quot;#FF9800&quot;, &quot;#E91E63&quot;, &quot;#2196F3&quot;, &quot;#4CAF50&quot;, &quot;#FFEB3B&quot;, &quot;#673AB7&quot;, &quot;#00BCD4&quot;, &quot;#CDDC39&quot;, &quot;#9E9E9E&quot;, &quot;#607D8B&quot;], &quot;font_family&quot;: &quot;Consolas, \\&quot;Liberation Mono\\&quot;, Menlo, Courier, monospace&quot;, &quot;foreground&quot;: &quot;rgba(0, 0, 0, .87)&quot;, &quot;foreground_strong&quot;: &quot;rgba(0, 0, 0, 1)&quot;, &quot;foreground_subtle&quot;: &quot;rgba(0, 0, 0, .54)&quot;, &quot;guide_stroke_dasharray&quot;: &quot;4,4&quot;, &quot;label_font_family&quot;: &quot;Consolas, \\&quot;Liberation Mono\\&quot;, Menlo, Courier, monospace&quot;, &quot;label_font_size&quot;: 10, &quot;legend_font_family&quot;: &quot;Consolas, \\&quot;Liberation Mono\\&quot;, Menlo, Courier, monospace&quot;, &quot;legend_font_size&quot;: 14, &quot;major_guide_stroke_dasharray&quot;: &quot;6,6&quot;, &quot;major_label_font_family&quot;: &quot;Consolas, \\&quot;Liberation Mono\\&quot;, Menlo, Courier, monospace&quot;, &quot;major_label_font_size&quot;: 10, &quot;no_data_font_family&quot;: &quot;Consolas, \\&quot;Liberation Mono\\&quot;, Menlo, Courier, monospace&quot;, &quot;no_data_font_size&quot;: 64, &quot;opacity&quot;: &quot;.7&quot;, &quot;opacity_hover&quot;: &quot;.8&quot;, &quot;plot_background&quot;: &quot;rgba(255, 255, 255, 1)&quot;, &quot;stroke_opacity&quot;: &quot;.8&quot;, &quot;stroke_opacity_hover&quot;: &quot;.9&quot;, &quot;title_font_family&quot;: &quot;Consolas, \\&quot;Liberation Mono\\&quot;, Menlo, Courier, monospace&quot;, &quot;title_font_size&quot;: 16, &quot;tooltip_font_family&quot;: &quot;Consolas, \\&quot;Liberation Mono\\&quot;, Menlo, Courier, monospace&quot;, &quot;tooltip_font_size&quot;: 14, &quot;transition&quot;: &quot;150ms&quot;, &quot;value_background&quot;: &quot;rgba(229, 229, 229, 1)&quot;, &quot;value_colors&quot;: [], &quot;value_font_family&quot;: &quot;Consolas, \\&quot;Liberation Mono\\&quot;, Menlo, Courier, monospace&quot;, &quot;value_font_size&quot;: 16, &quot;value_label_font_family&quot;: &quot;Consolas, \\&quot;Liberation Mono\\&quot;, Menlo, Courier, monospace&quot;, &quot;value_label_font_size&quot;: 10}, &quot;title&quot;: &quot;Contributions to Exam3sem on GitHub&quot;, &quot;tooltip_border_radius&quot;: 0, &quot;tooltip_fancy_mode&quot;: true, &quot;truncate_label&quot;: null, &quot;truncate_legend&quot;: null, &quot;width&quot;: 4000, &quot;x_label_rotation&quot;: 80, &quot;x_labels&quot;: [&quot;grem848&quot;, &quot;Lars-m&quot;, &quot;moh682&quot;, &quot;judre&quot;], &quot;x_labels_major&quot;: null, &quot;x_labels_major_count&quot;: null, &quot;x_labels_major_every&quot;: null, &quot;x_title&quot;: null, &quot;xrange&quot;: null, &quot;y_label_rotation&quot;: 0, &quot;y_labels&quot;: null, &quot;y_labels_major&quot;: null, &quot;y_labels_major_count&quot;: null, &quot;y_labels_major_every&quot;: null, &quot;y_title&quot;: null, &quot;zero&quot;: 0, &quot;legends&quot;: [&quot;&quot;, &quot;&quot;, &quot;&quot;, &quot;&quot;, &quot;&quot;, &quot;&quot;]}</script><script type=\"text/javascript\" xlink:href=\"https://kozea.github.io/pygal.js/2.0.x/pygal-tooltips.min.js\"/></defs><title>Contributions to Exam3sem on GitHub</title><g class=\"graph bar-graph vertical\"><rect class=\"background\" height=\"1000\" width=\"4000\" x=\"0\" y=\"0\"/><g class=\"plot\" transform=\"translate(202, 206)\"><rect class=\"background\" height=\"562.6380743734873\" width=\"3778.0\" x=\"0\" y=\"0\"/><g class=\"axis y always_show\"><g class=\"guides\"><path class=\"axis major line\" d=\"M0.000000 551.818111 h3778.000000\"/><text class=\"major\" x=\"-5\" y=\"555.3181114047663\">0</text><title>0</title></g><g class=\"guides\"><path class=\"guide line\" d=\"M0.000000 464.560346 h3778.000000\"/><text class=\"\" x=\"-5\" y=\"468.06034552798485\">10</text><title>10</title></g><g class=\"guides\"><path class=\"guide line\" d=\"M0.000000 377.302580 h3778.000000\"/><text class=\"\" x=\"-5\" y=\"380.80257965120336\">20</text><title>20</title></g><g class=\"guides\"><path class=\"guide line\" d=\"M0.000000 290.044814 h3778.000000\"/><text class=\"\" x=\"-5\" y=\"293.5448137744218\">30</text><title>30</title></g><g class=\"guides\"><path class=\"guide line\" d=\"M0.000000 202.787048 h3778.000000\"/><text class=\"\" x=\"-5\" y=\"206.28704789764026\">40</text><title>40</title></g><g class=\"guides\"><path class=\"major guide line\" d=\"M0.000000 115.529282 h3778.000000\"/><text class=\"major\" x=\"-5\" y=\"119.02928202085877\">50</text><title>50</title></g><g class=\"guides\"><path class=\"guide line\" d=\"M0.000000 28.271516 h3778.000000\"/><text class=\"\" x=\"-5\" y=\"31.77151614407728\">60</text><title>60</title></g></g><g class=\"axis x\"><path class=\"line\" d=\"M0.000000 0.000000 v562.638074\"/><g class=\"guides\"><path class=\"guide line\" d=\"M526.740385 0.000000 v562.638074\"/><text class=\"\" transform=\"rotate(80 526.740385 577.638074)\" x=\"526.7403846153845\" y=\"577.6380743734873\">grem848</text></g><g class=\"guides\"><path class=\"guide line\" d=\"M1434.913462 0.000000 v562.638074\"/><text class=\"\" transform=\"rotate(80 1434.913462 577.638074)\" x=\"1434.9134615384617\" y=\"577.6380743734873\">Lars-m</text></g><g class=\"guides\"><path class=\"guide line\" d=\"M2343.086538 0.000000 v562.638074\"/><text class=\"\" transform=\"rotate(80 2343.086538 577.638074)\" x=\"2343.086538461538\" y=\"577.6380743734873\">moh682</text></g><g class=\"guides\"><path class=\"guide line\" d=\"M3251.259615 0.000000 v562.638074\"/><text class=\"\" transform=\"rotate(80 3251.259615 577.638074)\" x=\"3251.2596153846152\" y=\"577.6380743734873\">judre</text></g></g><g class=\"series serie-0 color-0\"><g class=\"bars\"><g class=\"bar\"><a xlink:href=\"https://github.com/grem848\"><desc class=\"xlink\">https://github.com/grem848</desc><desc class=\"label\">grem848</desc><rect class=\"rect reactive tooltip-trigger\" height=\"540.9981484360454\" rx=\"0\" ry=\"0\" width=\"117.21487179487178\" x=\"135.13615384615386\" y=\"10.819962968720915\"/><desc class=\"value\">62</desc><desc class=\"x centered\">193.74358974358975</desc><desc class=\"y centered\">281.3190371867436</desc><desc class=\"x_label\">grem848</desc></a></g><g class=\"bar\"><a xlink:href=\"https://github.com/Lars-m\"><desc class=\"xlink\">https://github.com/Lars-m</desc><desc class=\"label\">Lars-m</desc><rect class=\"rect reactive tooltip-trigger\" height=\"122.16087222749411\" rx=\"0\" ry=\"0\" width=\"117.21487179487178\" x=\"1043.3092307692307\" y=\"429.65723917727223\"/><desc class=\"value\">14</desc><desc class=\"x centered\">1101.9166666666665</desc><desc class=\"y centered\">490.7376752910193</desc><desc class=\"x_label\">Lars-m</desc></a></g><g class=\"bar\"><a xlink:href=\"https://github.com/moh682\"><desc class=\"xlink\">https://github.com/moh682</desc><desc class=\"label\">moh682</desc><rect class=\"rect reactive tooltip-trigger\" height=\"104.7093190521378\" rx=\"0\" ry=\"0\" width=\"117.21487179487178\" x=\"1951.4823076923076\" y=\"447.10879235262854\"/><desc class=\"value\">12</desc><desc class=\"x centered\">2010.0897435897434</desc><desc class=\"y centered\">499.46345187869747</desc><desc class=\"x_label\">moh682</desc></a></g><g class=\"bar\"><a xlink:href=\"https://github.com/judre\"><desc class=\"xlink\">https://github.com/judre</desc><desc class=\"label\">judre</desc><rect class=\"rect reactive tooltip-trigger\" height=\"34.90310635071262\" rx=\"0\" ry=\"0\" width=\"117.21487179487178\" x=\"2859.6553846153847\" y=\"516.9150050540537\"/><desc class=\"value\">4</desc><desc class=\"x centered\">2918.262820512821</desc><desc class=\"y centered\">534.36655822941</desc><desc class=\"x_label\">judre</desc></a></g></g></g><g class=\"series serie-1 color-1\"><g class=\"bars\"><g class=\"bar\"><a xlink:href=\"https://github.com/grem848\"><desc class=\"xlink\">https://github.com/grem848</desc><desc class=\"label\">grem848</desc><rect class=\"rect reactive tooltip-trigger\" height=\"540.9981484360454\" rx=\"0\" ry=\"0\" width=\"117.21487179487178\" x=\"268.3348717948718\" y=\"10.819962968720915\"/><desc class=\"value\">62</desc><desc class=\"x centered\">326.9423076923077</desc><desc class=\"y centered\">281.3190371867436</desc><desc class=\"x_label\">grem848</desc></a></g><g class=\"bar\"><a xlink:href=\"https://github.com/Lars-m\"><desc class=\"xlink\">https://github.com/Lars-m</desc><desc class=\"label\">Lars-m</desc><rect class=\"rect reactive tooltip-trigger\" height=\"122.16087222749411\" rx=\"0\" ry=\"0\" width=\"117.21487179487178\" x=\"1176.5079487179487\" y=\"429.65723917727223\"/><desc class=\"value\">14</desc><desc class=\"x centered\">1235.1153846153845</desc><desc class=\"y centered\">490.7376752910193</desc><desc class=\"x_label\">Lars-m</desc></a></g><g class=\"bar\"><a xlink:href=\"https://github.com/moh682\"><desc class=\"xlink\">https://github.com/moh682</desc><desc class=\"label\">moh682</desc><rect class=\"rect reactive tooltip-trigger\" height=\"104.7093190521378\" rx=\"0\" ry=\"0\" width=\"117.21487179487178\" x=\"2084.681025641026\" y=\"447.10879235262854\"/><desc class=\"value\">12</desc><desc class=\"x centered\">2143.288461538462</desc><desc class=\"y centered\">499.46345187869747</desc><desc class=\"x_label\">moh682</desc></a></g><g class=\"bar\"><a xlink:href=\"https://github.com/judre\"><desc class=\"xlink\">https://github.com/judre</desc><desc class=\"label\">judre</desc><rect class=\"rect reactive tooltip-trigger\" height=\"34.90310635071262\" rx=\"0\" ry=\"0\" width=\"117.21487179487178\" x=\"2992.8541025641025\" y=\"516.9150050540537\"/><desc class=\"value\">4</desc><desc class=\"x centered\">3051.4615384615386</desc><desc class=\"y centered\">534.36655822941</desc><desc class=\"x_label\">judre</desc></a></g></g></g><g class=\"series serie-2 color-2\"><g class=\"bars\"><g class=\"bar\"><a xlink:href=\"https://github.com/grem848\"><desc class=\"xlink\">https://github.com/grem848</desc><desc class=\"label\">grem848</desc><rect class=\"rect reactive tooltip-trigger\" height=\"540.9981484360454\" rx=\"0\" ry=\"0\" width=\"117.21487179487178\" x=\"401.5335897435897\" y=\"10.819962968720915\"/><desc class=\"value\">62</desc><desc class=\"x centered\">460.1410256410256</desc><desc class=\"y centered\">281.3190371867436</desc><desc class=\"x_label\">grem848</desc></a></g><g class=\"bar\"><a xlink:href=\"https://github.com/Lars-m\"><desc class=\"xlink\">https://github.com/Lars-m</desc><desc class=\"label\">Lars-m</desc><rect class=\"rect reactive tooltip-trigger\" height=\"122.16087222749411\" rx=\"0\" ry=\"0\" width=\"117.21487179487178\" x=\"1309.7066666666665\" y=\"429.65723917727223\"/><desc class=\"value\">14</desc><desc class=\"x centered\">1368.3141025641023</desc><desc class=\"y centered\">490.7376752910193</desc><desc class=\"x_label\">Lars-m</desc></a></g><g class=\"bar\"><a xlink:href=\"https://github.com/moh682\"><desc class=\"xlink\">https://github.com/moh682</desc><desc class=\"label\">moh682</desc><rect class=\"rect reactive tooltip-trigger\" height=\"104.7093190521378\" rx=\"0\" ry=\"0\" width=\"117.21487179487178\" x=\"2217.8797435897436\" y=\"447.10879235262854\"/><desc class=\"value\">12</desc><desc class=\"x centered\">2276.4871794871797</desc><desc class=\"y centered\">499.46345187869747</desc><desc class=\"x_label\">moh682</desc></a></g><g class=\"bar\"><a xlink:href=\"https://github.com/judre\"><desc class=\"xlink\">https://github.com/judre</desc><desc class=\"label\">judre</desc><rect class=\"rect reactive tooltip-trigger\" height=\"34.90310635071262\" rx=\"0\" ry=\"0\" width=\"117.21487179487178\" x=\"3126.0528205128207\" y=\"516.9150050540537\"/><desc class=\"value\">4</desc><desc class=\"x centered\">3184.660256410257</desc><desc class=\"y centered\">534.36655822941</desc><desc class=\"x_label\">judre</desc></a></g></g></g><g class=\"series serie-3 color-3\"><g class=\"bars\"><g class=\"bar\"><a xlink:href=\"https://github.com/grem848\"><desc class=\"xlink\">https://github.com/grem848</desc><desc class=\"label\">grem848</desc><rect class=\"rect reactive tooltip-trigger\" height=\"540.9981484360454\" rx=\"0\" ry=\"0\" width=\"117.21487179487178\" x=\"534.7323076923076\" y=\"10.819962968720915\"/><desc class=\"value\">62</desc><desc class=\"x centered\">593.3397435897434</desc><desc class=\"y centered\">281.3190371867436</desc><desc class=\"x_label\">grem848</desc></a></g><g class=\"bar\"><a xlink:href=\"https://github.com/Lars-m\"><desc class=\"xlink\">https://github.com/Lars-m</desc><desc class=\"label\">Lars-m</desc><rect class=\"rect reactive tooltip-trigger\" height=\"122.16087222749411\" rx=\"0\" ry=\"0\" width=\"117.21487179487178\" x=\"1442.9053846153845\" y=\"429.65723917727223\"/><desc class=\"value\">14</desc><desc class=\"x centered\">1501.5128205128203</desc><desc class=\"y centered\">490.7376752910193</desc><desc class=\"x_label\">Lars-m</desc></a></g><g class=\"bar\"><a xlink:href=\"https://github.com/moh682\"><desc class=\"xlink\">https://github.com/moh682</desc><desc class=\"label\">moh682</desc><rect class=\"rect reactive tooltip-trigger\" height=\"104.7093190521378\" rx=\"0\" ry=\"0\" width=\"117.21487179487178\" x=\"2351.0784615384614\" y=\"447.10879235262854\"/><desc class=\"value\">12</desc><desc class=\"x centered\">2409.6858974358975</desc><desc class=\"y centered\">499.46345187869747</desc><desc class=\"x_label\">moh682</desc></a></g><g class=\"bar\"><a xlink:href=\"https://github.com/judre\"><desc class=\"xlink\">https://github.com/judre</desc><desc class=\"label\">judre</desc><rect class=\"rect reactive tooltip-trigger\" height=\"34.90310635071262\" rx=\"0\" ry=\"0\" width=\"117.21487179487178\" x=\"3259.2515384615385\" y=\"516.9150050540537\"/><desc class=\"value\">4</desc><desc class=\"x centered\">3317.8589743589746</desc><desc class=\"y centered\">534.36655822941</desc><desc class=\"x_label\">judre</desc></a></g></g></g><g class=\"series serie-4 color-4\"><g class=\"bars\"><g class=\"bar\"><a xlink:href=\"https://github.com/grem848\"><desc class=\"xlink\">https://github.com/grem848</desc><desc class=\"label\">grem848</desc><rect class=\"rect reactive tooltip-trigger\" height=\"540.9981484360454\" rx=\"0\" ry=\"0\" width=\"117.21487179487178\" x=\"667.9310256410256\" y=\"10.819962968720915\"/><desc class=\"value\">62</desc><desc class=\"x centered\">726.5384615384614</desc><desc class=\"y centered\">281.3190371867436</desc><desc class=\"x_label\">grem848</desc></a></g><g class=\"bar\"><a xlink:href=\"https://github.com/Lars-m\"><desc class=\"xlink\">https://github.com/Lars-m</desc><desc class=\"label\">Lars-m</desc><rect class=\"rect reactive tooltip-trigger\" height=\"122.16087222749411\" rx=\"0\" ry=\"0\" width=\"117.21487179487178\" x=\"1576.1041025641023\" y=\"429.65723917727223\"/><desc class=\"value\">14</desc><desc class=\"x centered\">1634.711538461538</desc><desc class=\"y centered\">490.7376752910193</desc><desc class=\"x_label\">Lars-m</desc></a></g><g class=\"bar\"><a xlink:href=\"https://github.com/moh682\"><desc class=\"xlink\">https://github.com/moh682</desc><desc class=\"label\">moh682</desc><rect class=\"rect reactive tooltip-trigger\" height=\"104.7093190521378\" rx=\"0\" ry=\"0\" width=\"117.21487179487178\" x=\"2484.2771794871796\" y=\"447.10879235262854\"/><desc class=\"value\">12</desc><desc class=\"x centered\">2542.8846153846157</desc><desc class=\"y centered\">499.46345187869747</desc><desc class=\"x_label\">moh682</desc></a></g><g class=\"bar\"><a xlink:href=\"https://github.com/judre\"><desc class=\"xlink\">https://github.com/judre</desc><desc class=\"label\">judre</desc><rect class=\"rect reactive tooltip-trigger\" height=\"34.90310635071262\" rx=\"0\" ry=\"0\" width=\"117.21487179487178\" x=\"3392.4502564102563\" y=\"516.9150050540537\"/><desc class=\"value\">4</desc><desc class=\"x centered\">3451.0576923076924</desc><desc class=\"y centered\">534.36655822941</desc><desc class=\"x_label\">judre</desc></a></g></g></g><g class=\"series serie-5 color-5\"><g class=\"bars\"><g class=\"bar\"><a xlink:href=\"https://github.com/grem848\"><desc class=\"xlink\">https://github.com/grem848</desc><desc class=\"label\">grem848</desc><rect class=\"rect reactive tooltip-trigger\" height=\"540.9981484360454\" rx=\"0\" ry=\"0\" width=\"117.21487179487178\" x=\"801.1297435897434\" y=\"10.819962968720915\"/><desc class=\"value\">62</desc><desc class=\"x centered\">859.7371794871792</desc><desc class=\"y centered\">281.3190371867436</desc><desc class=\"x_label\">grem848</desc></a></g><g class=\"bar\"><a xlink:href=\"https://github.com/Lars-m\"><desc class=\"xlink\">https://github.com/Lars-m</desc><desc class=\"label\">Lars-m</desc><rect class=\"rect reactive tooltip-trigger\" height=\"122.16087222749411\" rx=\"0\" ry=\"0\" width=\"117.21487179487178\" x=\"1709.3028205128203\" y=\"429.65723917727223\"/><desc class=\"value\">14</desc><desc class=\"x centered\">1767.9102564102561</desc><desc class=\"y centered\">490.7376752910193</desc><desc class=\"x_label\">Lars-m</desc></a></g><g class=\"bar\"><a xlink:href=\"https://github.com/moh682\"><desc class=\"xlink\">https://github.com/moh682</desc><desc class=\"label\">moh682</desc><rect class=\"rect reactive tooltip-trigger\" height=\"104.7093190521378\" rx=\"0\" ry=\"0\" width=\"117.21487179487178\" x=\"2617.4758974358974\" y=\"447.10879235262854\"/><desc class=\"value\">12</desc><desc class=\"x centered\">2676.0833333333335</desc><desc class=\"y centered\">499.46345187869747</desc><desc class=\"x_label\">moh682</desc></a></g><g class=\"bar\"><a xlink:href=\"https://github.com/judre\"><desc class=\"xlink\">https://github.com/judre</desc><desc class=\"label\">judre</desc><rect class=\"rect reactive tooltip-trigger\" height=\"34.90310635071262\" rx=\"0\" ry=\"0\" width=\"117.21487179487178\" x=\"3525.648974358974\" y=\"516.9150050540537\"/><desc class=\"value\">4</desc><desc class=\"x centered\">3584.25641025641</desc><desc class=\"y centered\">534.36655822941</desc><desc class=\"x_label\">judre</desc></a></g></g></g></g><g class=\"titles\"><text class=\"title plot_title\" x=\"2000.0\" y=\"186\">Contributions to Exam3sem on GitHub</text></g><g class=\"plot overlay\" transform=\"translate(202, 206)\"><g class=\"series serie-0 color-0\"/><g class=\"series serie-1 color-1\"/><g class=\"series serie-2 color-2\"/><g class=\"series serie-3 color-3\"/><g class=\"series serie-4 color-4\"/><g class=\"series serie-5 color-5\"/></g><g class=\"plot text-overlay\" transform=\"translate(202, 206)\"><g class=\"series serie-0 color-0\"/><g class=\"series serie-1 color-1\"/><g class=\"series serie-2 color-2\"/><g class=\"series serie-3 color-3\"/><g class=\"series serie-4 color-4\"/><g class=\"series serie-5 color-5\"/></g><g class=\"plot tooltip-overlay\" transform=\"translate(202, 206)\"><g class=\"tooltip\" style=\"opacity: 0\" transform=\"translate(0 0)\"><rect class=\"tooltip-box\" height=\"0\" rx=\"0\" ry=\"0\" width=\"0\"/><g class=\"text\"/></g></g></g></svg>"
      ],
      "text/plain": [
       "<IPython.core.display.SVG object>"
      ]
     },
     "execution_count": 15,
     "metadata": {},
     "output_type": "execute_result"
    }
   ],
   "source": [
    "from IPython.core.display import SVG\n",
    "SVG(filename='contrib_flask.svg')"
   ]
  },
  {
   "cell_type": "markdown",
   "metadata": {},
   "source": [
    "# 17-Multiprocessing"
   ]
  },
  {
   "cell_type": "code",
   "execution_count": 18,
   "metadata": {},
   "outputs": [
    {
     "data": {
      "text/plain": [
       "8"
      ]
     },
     "execution_count": 18,
     "metadata": {},
     "output_type": "execute_result"
    }
   ],
   "source": [
    "from multiprocessing import Pool, cpu_count\n",
    "\n",
    "cpu_count()"
   ]
  },
  {
   "cell_type": "markdown",
   "metadata": {},
   "source": [
    "## Exercise\n",
    "\n",
    "* Find the ID of one of your repositories on GitHub\n",
    "* Write a function that creates a URL by adding an index to this url:\n",
    "    `https://api.github.com/repositories/33015583/contributors?page=`\n",
    "* Create a list of 100 URLs by calling the above function 100 times with indices from 0 to 99 inclusive\n",
    "* Using `%%timeit`, measure how long it takes to call the url 100 times sequentially\n",
    "* Create a thread pool\n",
    "* Using `%%timeit`, measure how long it takes to call the url 100 times *in parallel*"
   ]
  },
  {
   "cell_type": "code",
   "execution_count": 35,
   "metadata": {},
   "outputs": [
    {
     "name": "stdout",
     "output_type": "stream",
     "text": [
      "hej.com1\n"
     ]
    }
   ],
   "source": [
    "url = \"https://api.github.com/repositories/33015583/contributors?page=\"\n",
    "def url_creator(url, index):\n",
    "#     urls = [url] * 100\n",
    "    url += \"1\"\n",
    "    return url\n",
    "\n",
    "print(url_creator(\"hej.com\"))"
   ]
  },
  {
   "cell_type": "code",
   "execution_count": 33,
   "metadata": {},
   "outputs": [
    {
     "name": "stdout",
     "output_type": "stream",
     "text": [
      "['https://api.github.com/repositories/33015583/contributors?page=', 'https://api.github.com/repositories/33015583/contributors?page=', 'https://api.github.com/repositories/33015583/contributors?page=', 'https://api.github.com/repositories/33015583/contributors?page=', 'https://api.github.com/repositories/33015583/contributors?page=', 'https://api.github.com/repositories/33015583/contributors?page=', 'https://api.github.com/repositories/33015583/contributors?page=', 'https://api.github.com/repositories/33015583/contributors?page=', 'https://api.github.com/repositories/33015583/contributors?page=', 'https://api.github.com/repositories/33015583/contributors?page=', 'https://api.github.com/repositories/33015583/contributors?page=', 'https://api.github.com/repositories/33015583/contributors?page=', 'https://api.github.com/repositories/33015583/contributors?page=', 'https://api.github.com/repositories/33015583/contributors?page=', 'https://api.github.com/repositories/33015583/contributors?page=', 'https://api.github.com/repositories/33015583/contributors?page=', 'https://api.github.com/repositories/33015583/contributors?page=', 'https://api.github.com/repositories/33015583/contributors?page=', 'https://api.github.com/repositories/33015583/contributors?page=', 'https://api.github.com/repositories/33015583/contributors?page=', 'https://api.github.com/repositories/33015583/contributors?page=', 'https://api.github.com/repositories/33015583/contributors?page=', 'https://api.github.com/repositories/33015583/contributors?page=', 'https://api.github.com/repositories/33015583/contributors?page=', 'https://api.github.com/repositories/33015583/contributors?page=', 'https://api.github.com/repositories/33015583/contributors?page=', 'https://api.github.com/repositories/33015583/contributors?page=', 'https://api.github.com/repositories/33015583/contributors?page=', 'https://api.github.com/repositories/33015583/contributors?page=', 'https://api.github.com/repositories/33015583/contributors?page=', 'https://api.github.com/repositories/33015583/contributors?page=', 'https://api.github.com/repositories/33015583/contributors?page=', 'https://api.github.com/repositories/33015583/contributors?page=', 'https://api.github.com/repositories/33015583/contributors?page=', 'https://api.github.com/repositories/33015583/contributors?page=', 'https://api.github.com/repositories/33015583/contributors?page=', 'https://api.github.com/repositories/33015583/contributors?page=', 'https://api.github.com/repositories/33015583/contributors?page=', 'https://api.github.com/repositories/33015583/contributors?page=', 'https://api.github.com/repositories/33015583/contributors?page=', 'https://api.github.com/repositories/33015583/contributors?page=', 'https://api.github.com/repositories/33015583/contributors?page=', 'https://api.github.com/repositories/33015583/contributors?page=', 'https://api.github.com/repositories/33015583/contributors?page=', 'https://api.github.com/repositories/33015583/contributors?page=', 'https://api.github.com/repositories/33015583/contributors?page=', 'https://api.github.com/repositories/33015583/contributors?page=', 'https://api.github.com/repositories/33015583/contributors?page=', 'https://api.github.com/repositories/33015583/contributors?page=', 'https://api.github.com/repositories/33015583/contributors?page=', 'https://api.github.com/repositories/33015583/contributors?page=', 'https://api.github.com/repositories/33015583/contributors?page=', 'https://api.github.com/repositories/33015583/contributors?page=', 'https://api.github.com/repositories/33015583/contributors?page=', 'https://api.github.com/repositories/33015583/contributors?page=', 'https://api.github.com/repositories/33015583/contributors?page=', 'https://api.github.com/repositories/33015583/contributors?page=', 'https://api.github.com/repositories/33015583/contributors?page=', 'https://api.github.com/repositories/33015583/contributors?page=', 'https://api.github.com/repositories/33015583/contributors?page=', 'https://api.github.com/repositories/33015583/contributors?page=', 'https://api.github.com/repositories/33015583/contributors?page=', 'https://api.github.com/repositories/33015583/contributors?page=', 'https://api.github.com/repositories/33015583/contributors?page=', 'https://api.github.com/repositories/33015583/contributors?page=', 'https://api.github.com/repositories/33015583/contributors?page=', 'https://api.github.com/repositories/33015583/contributors?page=', 'https://api.github.com/repositories/33015583/contributors?page=', 'https://api.github.com/repositories/33015583/contributors?page=', 'https://api.github.com/repositories/33015583/contributors?page=', 'https://api.github.com/repositories/33015583/contributors?page=', 'https://api.github.com/repositories/33015583/contributors?page=', 'https://api.github.com/repositories/33015583/contributors?page=', 'https://api.github.com/repositories/33015583/contributors?page=', 'https://api.github.com/repositories/33015583/contributors?page=', 'https://api.github.com/repositories/33015583/contributors?page=', 'https://api.github.com/repositories/33015583/contributors?page=', 'https://api.github.com/repositories/33015583/contributors?page=', 'https://api.github.com/repositories/33015583/contributors?page=', 'https://api.github.com/repositories/33015583/contributors?page=', 'https://api.github.com/repositories/33015583/contributors?page=', 'https://api.github.com/repositories/33015583/contributors?page=', 'https://api.github.com/repositories/33015583/contributors?page=', 'https://api.github.com/repositories/33015583/contributors?page=', 'https://api.github.com/repositories/33015583/contributors?page=', 'https://api.github.com/repositories/33015583/contributors?page=', 'https://api.github.com/repositories/33015583/contributors?page=', 'https://api.github.com/repositories/33015583/contributors?page=', 'https://api.github.com/repositories/33015583/contributors?page=', 'https://api.github.com/repositories/33015583/contributors?page=', 'https://api.github.com/repositories/33015583/contributors?page=', 'https://api.github.com/repositories/33015583/contributors?page=', 'https://api.github.com/repositories/33015583/contributors?page=', 'https://api.github.com/repositories/33015583/contributors?page=', 'https://api.github.com/repositories/33015583/contributors?page=', 'https://api.github.com/repositories/33015583/contributors?page=', 'https://api.github.com/repositories/33015583/contributors?page=', 'https://api.github.com/repositories/33015583/contributors?page=', 'https://api.github.com/repositories/33015583/contributors?page=', 'https://api.github.com/repositories/33015583/contributors?page=']\n"
     ]
    }
   ],
   "source": [
    "l = [url] * 100\n",
    "print(l)"
   ]
  },
  {
   "cell_type": "markdown",
   "metadata": {},
   "source": [
    "# NOTES"
   ]
  },
  {
   "cell_type": "code",
   "execution_count": 12,
   "metadata": {},
   "outputs": [
    {
     "name": "stdout",
     "output_type": "stream",
     "text": [
      "['1', '2']\n"
     ]
    }
   ],
   "source": [
    "!python download_script.py 1 2"
   ]
  }
 ],
 "metadata": {
  "kernelspec": {
   "display_name": "Python 3",
   "language": "python",
   "name": "python3"
  },
  "language_info": {
   "codemirror_mode": {
    "name": "ipython",
    "version": 3
   },
   "file_extension": ".py",
   "mimetype": "text/x-python",
   "name": "python",
   "nbconvert_exporter": "python",
   "pygments_lexer": "ipython3",
   "version": "3.7.1"
  }
 },
 "nbformat": 4,
 "nbformat_minor": 2
}
